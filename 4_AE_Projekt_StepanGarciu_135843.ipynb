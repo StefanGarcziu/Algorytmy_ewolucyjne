{
 "cells": [
  {
   "cell_type": "markdown",
   "metadata": {},
   "source": [
    "# Problem z pakowaniem pojemników  z pomocą AG\n",
    "(Bin packing problem)"
   ]
  },
  {
   "cell_type": "markdown",
   "metadata": {},
   "source": [
    "<p align=\"center\">\n",
    "  <img width=\"660\" height=\"300\" src=\"https://scipbook.readthedocs.io/en/latest/_images/bpp-instance.png\">\n",
    "</p>"
   ]
  },
  {
   "cell_type": "markdown",
   "metadata": {},
   "source": [
    "W przypadku problemu pakowania w pojemniki przedmioty o różnej objętości muszą być pakowane w liczbę pojemników, z których każdy ma określoną objętość w sposób minimalizujący liczbę używanych pojemników. "
   ]
  },
  {
   "cell_type": "markdown",
   "metadata": {},
   "source": [
    "W teorii złożoności obliczeniowej jest to kombinatoryczny problem <b>NP</b> - trudny."
   ]
  },
  {
   "cell_type": "markdown",
   "metadata": {},
   "source": [
    "<p align=\"center\">\n",
    "  <img width=\"660\" height=\"300\" src=\"https://scipbook.readthedocs.io/en/latest/_images/bpp-solution.png\">\n",
    "</p>"
   ]
  },
  {
   "cell_type": "markdown",
   "metadata": {},
   "source": [
    "Spróbujmy rozwiązać ten problem za pomocą <b>Algorytmu Genetycznego</b>."
   ]
  },
  {
   "cell_type": "markdown",
   "metadata": {},
   "source": [
    "Jednak przed przystąpieniem do projektu postanowiłem uzupełnić braki wiedzy i kupiłem książkę: [\"Genetic Algorithms with Python\" by Clinton Sheppard](https://leanpub.com/genetic_algorithms_with_python)\n",
    "\n",
    "(Jeśli ktoś jest zainteresowany, mogę wysłać książkę jako osobistą wiadomość w formacie .pdf)"
   ]
  },
  {
   "cell_type": "markdown",
   "metadata": {},
   "source": [
    "# Sekwencja działań algorytmu"
   ]
  },
  {
   "cell_type": "markdown",
   "metadata": {},
   "source": [
    "Najczęściej działanie algorytmu przebiega następująco:"
   ]
  },
  {
   "cell_type": "markdown",
   "metadata": {},
   "source": [
    "* Losowana jest pewna populacja <i>początkowa</i>\n",
    "* Selekcja\n",
    "* Krzyżowanie\n",
    "* Mutacja\n",
    "* Rodzi się drugie (kolejne) pokolenie\n",
    "* Jeśli znajdziemy wystarczająco dobre rozwiązanie, wybieramy najlepszego osobnika z populacji - jego genotyp to uzyskany <b>wynik</b>."
   ]
  },
  {
   "cell_type": "code",
   "execution_count": 1,
   "metadata": {},
   "outputs": [],
   "source": [
    "from collections import Counter # rodzaj słownika, który pozwala policzyć liczbę niezmiennych obiektów\n",
    "\n",
    "import numpy as np\n",
    "import matplotlib.pyplot as plot"
   ]
  },
  {
   "cell_type": "markdown",
   "metadata": {},
   "source": [
    "# Populacja"
   ]
  },
  {
   "cell_type": "markdown",
   "metadata": {},
   "source": [
    "W dowolnym momencie algorytm genetyczny przechowuje populację osobników - zbiór potencjalnych rozwiązań danego problemu."
   ]
  },
  {
   "cell_type": "code",
   "execution_count": 2,
   "metadata": {},
   "outputs": [],
   "source": [
    "n = 100 # liczba przedmiotów, które chcemy zmieścić w kontenerach"
   ]
  },
  {
   "cell_type": "code",
   "execution_count": 3,
   "metadata": {},
   "outputs": [
    {
     "data": {
      "text/plain": [
       "array([0.636, 0.307, 0.052, 0.58 , 0.661, 0.78 , 0.229, 0.322, 0.175,\n",
       "       0.792, 0.37 , 0.289, 0.124, 0.839, 0.331, 0.57 , 0.995, 0.312,\n",
       "       0.741, 0.378, 0.911, 0.451, 0.176, 0.447, 0.568, 0.847, 0.845,\n",
       "       0.09 , 0.322, 0.607, 0.196, 0.42 , 0.627, 0.518, 0.166, 0.74 ,\n",
       "       0.758, 0.779, 0.104, 0.271, 0.149, 0.02 , 0.524, 0.963, 0.589,\n",
       "       0.036, 0.362, 0.74 , 0.056, 0.853, 0.431, 0.708, 0.119, 0.945,\n",
       "       0.047, 0.856, 0.582, 0.555, 0.213, 0.722, 0.238, 0.366, 0.289,\n",
       "       0.084, 0.458, 0.614, 0.627, 0.564, 0.673, 0.976, 0.732, 0.691,\n",
       "       0.888, 0.337, 0.649, 0.892, 0.63 , 0.673, 0.064, 0.394, 0.508,\n",
       "       0.47 , 0.187, 0.13 , 0.942, 0.594, 0.983, 0.401, 0.221, 0.595,\n",
       "       0.395, 0.225, 0.306, 0.791, 0.419, 0.443, 0.922, 0.631, 0.398,\n",
       "       0.712])"
      ]
     },
     "execution_count": 3,
     "metadata": {},
     "output_type": "execute_result"
    }
   ],
   "source": [
    "v = np.random.random(size = n) # objetości tych przedmiotów\n",
    "np.round(v, 3)"
   ]
  },
  {
   "cell_type": "code",
   "execution_count": 4,
   "metadata": {},
   "outputs": [],
   "source": [
    "v_max = 3 # maksymalna objetość każdego kontenera"
   ]
  },
  {
   "cell_type": "markdown",
   "metadata": {},
   "source": [
    "Stąd mamy obiekty o pewnej objętości $v_i$, $i=1,...,n$ i dowolną liczbę kontenerów, każdy o pojemności <i>v_max</i>."
   ]
  },
  {
   "cell_type": "markdown",
   "metadata": {},
   "source": [
    "<i>Jaka jest najmniejsza liczba kontenerów potrzebna, by spakować wszystkie obiekty?</i>"
   ]
  },
  {
   "cell_type": "markdown",
   "metadata": {},
   "source": [
    "# Rozwiązania w populacji"
   ]
  },
  {
   "cell_type": "markdown",
   "metadata": {},
   "source": [
    "Reprezentacja załadowania $nr$_$kontenera()$ :\n",
    "* $[i_1,i_2,\\dots,i_n]$,  gdzie $i_k$ oznacza № kontenera, w którym jest obiekt $k$."
   ]
  },
  {
   "cell_type": "code",
   "execution_count": 5,
   "metadata": {},
   "outputs": [
    {
     "name": "stdout",
     "output_type": "stream",
     "text": [
      "[ 9 71  3 54  5 17 28 53 70 48 61 27 48 71 20 42 91 38 66 21 47 77 61 25\n",
      " 34  3 49 29 10 81 38 46 12 66 76 44 23 88 72 61  5 13 12 35 78 79 27 27\n",
      " 12 39 81 23  0 78 28 71 44 98 77 25 73 50 39 76 16 15 62 13 91 68  8 23\n",
      " 41  0 38 83  3 44 63 30 32 53 29 94 81 27 29 98  1 99 27 59 67  4  9 61\n",
      "  3 27 93 23]\n"
     ]
    }
   ],
   "source": [
    "def nr_kontenera(): # konfiguracja numerów kontenera\n",
    "    return np.random.randint(n, size=n) # wybrany losowo\n",
    "\n",
    "print(nr_kontenera())"
   ]
  },
  {
   "cell_type": "markdown",
   "metadata": {},
   "source": [
    "#  Populacja początkowa 1000 osobników "
   ]
  },
  {
   "cell_type": "code",
   "execution_count": 6,
   "metadata": {},
   "outputs": [
    {
     "data": {
      "text/plain": [
       "array([[88, 97, 93, ..., 39, 34, 47],\n",
       "       [31, 54,  8, ..., 95, 54,  3],\n",
       "       [76, 78, 10, ..., 69, 91, 64],\n",
       "       ...,\n",
       "       [44,  9,  6, ..., 28, 13, 48],\n",
       "       [37, 91, 22, ..., 39, 19, 47],\n",
       "       [80, 96, 29, ..., 86, 53, 27]])"
      ]
     },
     "execution_count": 6,
     "metadata": {},
     "output_type": "execute_result"
    }
   ],
   "source": [
    "population_size = 1000\n",
    "\n",
    "# każda osoba z populacji wybiera własną konfigurację numerów kontenerów \n",
    "population = np.array([nr_kontenera() for _ in range(population_size)])\n",
    "population "
   ]
  },
  {
   "cell_type": "code",
   "execution_count": 7,
   "metadata": {},
   "outputs": [
    {
     "data": {
      "text/plain": [
       "array([88, 97, 93,  6, 15, 50, 71, 48, 20, 29, 27, 87, 77, 55, 60, 29, 14,\n",
       "        7, 41, 97, 77, 86, 19, 27, 60, 79, 92, 48, 17,  9, 23, 68, 98, 20,\n",
       "       37, 11,  1, 83, 50,  5,  8, 37, 10, 17, 83, 76, 65, 94,  6, 74, 77,\n",
       "       18, 62, 42, 29, 40, 39, 24,  4, 57,  5,  4, 84, 78, 44,  6, 18, 77,\n",
       "       58, 14, 92, 69, 30, 75, 91,  6, 34, 92,  7, 94,  5, 98, 75, 30, 32,\n",
       "       69, 34, 77, 44, 74, 73, 27, 97, 37, 78, 32, 45, 39, 34, 47])"
      ]
     },
     "execution_count": 7,
     "metadata": {},
     "output_type": "execute_result"
    }
   ],
   "source": [
    "population[0]"
   ]
  },
  {
   "cell_type": "markdown",
   "metadata": {},
   "source": [
    "Liczymy liczbę użytych kontenerów za pomozą funkcji <b>quantity()</b>"
   ]
  },
  {
   "cell_type": "code",
   "execution_count": 9,
   "metadata": {},
   "outputs": [
    {
     "data": {
      "text/plain": [
       "59"
      ]
     },
     "execution_count": 9,
     "metadata": {},
     "output_type": "execute_result"
    }
   ],
   "source": [
    "def quantity(nr_kontenera):                \n",
    "    myDict = Counter(nr_kontenera) # Counter - rodzaj słownika, który pozwala policzyć liczbę niezmiennych obiektów\n",
    "    return len(myDict) # liczba unikalnych elementów == liczba użytych kontenerów !!!\n",
    "\n",
    "quantity(population[0]) # Pierwsza osoba z populacji wybrała X kontenery"
   ]
  },
  {
   "cell_type": "markdown",
   "metadata": {},
   "source": [
    "Funkcja <b>sumy</b> po numerach kontenerów, np. [1,2,0,4,5] -> 1+2+0+4+5 "
   ]
  },
  {
   "cell_type": "code",
   "execution_count": 10,
   "metadata": {},
   "outputs": [
    {
     "data": {
      "text/plain": [
       "4808"
      ]
     },
     "execution_count": 10,
     "metadata": {},
     "output_type": "execute_result"
    }
   ],
   "source": [
    "def suma(nr_kontenera):    \n",
    "    return sum(nr_kontenera)\n",
    "\n",
    "suma(population[0])"
   ]
  },
  {
   "cell_type": "markdown",
   "metadata": {},
   "source": [
    "Obliczamy zużytą objętość każdego pojemnika, która została wybrana przez każdą osobę z populacji za pomozą funkcji <b>volume()</b>"
   ]
  },
  {
   "cell_type": "code",
   "execution_count": 11,
   "metadata": {},
   "outputs": [],
   "source": [
    "def volume(nr_kontenera):  \n",
    "    ress_final = []    \n",
    "    ress = []\n",
    "    for j in range(n):\n",
    "        nr_kont = nr_kontenera[j]\n",
    "        summ = 0        \n",
    "        for u in range(n):\n",
    "            if nr_kont == nr_kontenera[u]: # jeśli przedmioty należą do jednego pojemnika, sumuje się ich objętość !!!\n",
    "                summ += v[u]             \n",
    "        ress.append(summ)\n",
    "    new_ress = list(set(ress))\n",
    "    ress_final.append(new_ress)\n",
    "    return ress_final"
   ]
  },
  {
   "cell_type": "markdown",
   "metadata": {},
   "source": [
    "Wykorzystana objętość pojemników przez pierwszą osobę:"
   ]
  },
  {
   "cell_type": "code",
   "execution_count": 12,
   "metadata": {},
   "outputs": [
    {
     "data": {
      "text/plain": [
       "[0.6360131556258121,\n",
       " 0.9896664012191225,\n",
       " 0.05226640859366527,\n",
       " 2.140707676718975,\n",
       " 0.6608263914470375,\n",
       " 0.8837017137553551,\n",
       " 0.22877717336002945,\n",
       " 0.4117084564121979,\n",
       " 0.6931751757649496,\n",
       " 1.4089398245210516,\n",
       " 1.0423190222820482,\n",
       " 2.4305947472629597,\n",
       " 2.250156050697889,\n",
       " 1.385025168578835,\n",
       " 0.2886292918206588,\n",
       " 1.1343599606630408,\n",
       " 1.2124257839862536,\n",
       " 0.9778628806492818,\n",
       " 0.7402541711804393,\n",
       " 0.5244657650838018,\n",
       " 1.4481501240981243,\n",
       " 1.3352823871381436,\n",
       " 0.5036000536451196,\n",
       " 0.5240113041141173,\n",
       " 0.7410035601597318,\n",
       " 0.0363366015651827,\n",
       " 0.39489576391891634,\n",
       " 0.6069671105259652,\n",
       " 0.8555162208983597,\n",
       " 0.5551791572291273,\n",
       " 0.1760050051482276,\n",
       " 0.5788155840412257,\n",
       " 0.6791315726719898,\n",
       " 0.9216302567920307,\n",
       " 0.7122886350045379,\n",
       " 1.2847781294232972,\n",
       " 1.0973570267903883,\n",
       " 1.0175507998919224,\n",
       " 0.9450618287418734,\n",
       " 0.648780771012306,\n",
       " 0.899738996799923,\n",
       " 0.4196968064975988,\n",
       " 1.3683326125221627,\n",
       " 0.14916086306663645,\n",
       " 0.36214568168576855,\n",
       " 0.673118892113885,\n",
       " 0.8389484422643849,\n",
       " 0.45129503517004776,\n",
       " 0.7578064496482138,\n",
       " 0.2892701321309086,\n",
       " 1.9716077781375154,\n",
       " 1.0174428016442163,\n",
       " 0.1963970662521991,\n",
       " 2.01021012065569,\n",
       " 0.3756000965696804,\n",
       " 0.8466934661221008,\n",
       " 0.11923336337964563,\n",
       " 0.7222681932179158,\n",
       " 1.2842832236270778]"
      ]
     },
     "execution_count": 12,
     "metadata": {},
     "output_type": "execute_result"
    }
   ],
   "source": [
    "alll = volume(population[0])\n",
    "NEW_alll = alll[0]\n",
    "NEW_alll # liczba elementów NEW_alll == liczba użytych kontenerów !!!"
   ]
  },
  {
   "cell_type": "markdown",
   "metadata": {},
   "source": [
    "Do tablicy <b>numerów</b> dodajemy <b>sumę</b> użytych kontenerów :"
   ]
  },
  {
   "cell_type": "code",
   "execution_count": 13,
   "metadata": {},
   "outputs": [],
   "source": [
    "nr_count = [[nr_kontenera, suma(nr_kontenera)] for nr_kontenera in population]\n",
    "#nr_count"
   ]
  },
  {
   "cell_type": "code",
   "execution_count": 14,
   "metadata": {},
   "outputs": [
    {
     "data": {
      "text/plain": [
       "[array([88, 97, 93,  6, 15, 50, 71, 48, 20, 29, 27, 87, 77, 55, 60, 29, 14,\n",
       "         7, 41, 97, 77, 86, 19, 27, 60, 79, 92, 48, 17,  9, 23, 68, 98, 20,\n",
       "        37, 11,  1, 83, 50,  5,  8, 37, 10, 17, 83, 76, 65, 94,  6, 74, 77,\n",
       "        18, 62, 42, 29, 40, 39, 24,  4, 57,  5,  4, 84, 78, 44,  6, 18, 77,\n",
       "        58, 14, 92, 69, 30, 75, 91,  6, 34, 92,  7, 94,  5, 98, 75, 30, 32,\n",
       "        69, 34, 77, 44, 74, 73, 27, 97, 37, 78, 32, 45, 39, 34, 47]),\n",
       " 4808]"
      ]
     },
     "execution_count": 14,
     "metadata": {},
     "output_type": "execute_result"
    }
   ],
   "source": [
    "nr_count[0]"
   ]
  },
  {
   "cell_type": "markdown",
   "metadata": {},
   "source": [
    "Sortowanie według liczby zużytych pojemników (rosnąco):"
   ]
  },
  {
   "cell_type": "code",
   "execution_count": 15,
   "metadata": {
    "scrolled": false
   },
   "outputs": [
    {
     "data": {
      "text/plain": [
       "[array([10, 85, 25, 48, 76, 17, 26, 14, 54, 49, 58, 22,  4, 60, 43, 14, 38,\n",
       "        31,  7, 10,  7, 24, 54, 45, 42, 62, 12, 66, 41, 76, 56, 96, 73,  7,\n",
       "         7, 49,  3, 78, 53, 27, 15, 35, 45, 46, 31, 20, 95, 11,  0,  6,  5,\n",
       "         7, 45, 64, 25, 45, 54, 23, 15, 49, 22, 79, 18, 39, 66, 24, 10, 87,\n",
       "        40, 83, 94, 76, 99, 24, 65, 31, 23, 22, 23, 47, 35,  0, 36, 84, 93,\n",
       "        73,  6, 62, 54, 92, 22,  9, 77,  0, 27,  8, 25,  4, 43, 50]),\n",
       " 3977]"
      ]
     },
     "execution_count": 15,
     "metadata": {},
     "output_type": "execute_result"
    }
   ],
   "source": [
    "sort = sorted(nr_count, key=lambda x: x[1]) \n",
    "sort[0]\n",
    "\n",
    "#można uruchomić i zobaczyć, jaki jest wynik"
   ]
  },
  {
   "cell_type": "markdown",
   "metadata": {},
   "source": [
    "# Selekcja"
   ]
  },
  {
   "cell_type": "markdown",
   "metadata": {},
   "source": [
    "Po obliczeniu sprawności wszystkich osobników w populacji rozpoczyna się proces <b>selekcji</b>, który określa, które osobniki zostaną pozostawione do <b>reprodukcji</b>, czyli stworzenie potomstwa, które będzie stanowić następne pokolenie."
   ]
  },
  {
   "cell_type": "code",
   "execution_count": 16,
   "metadata": {},
   "outputs": [],
   "source": [
    "def selection(popu, n_best):    \n",
    "      \n",
    "    sel_summ = [[]]\n",
    "    sel_quant = [] \n",
    "    t = 0        \n",
    "    \n",
    "    com = [[nr_kontenera, suma(nr_kontenera)] for nr_kontenera in popu]\n",
    "    popu_c = sorted(com, key=lambda x: x[1])\n",
    "    sort_summ = [x[0] for x in popu_c]   \n",
    "    \n",
    "    for j in range(len(sort_summ)):\n",
    "        # Pozostawiamy tylko te kombinacje, które spełniają warunek:\n",
    "        # Objętość pojemników nie przekracza dopuszczalnej wartości\n",
    "        wynik = all(item <= v_max for item in volume(sort_summ[j])[0])\n",
    "        if wynik == True:          \n",
    "            sel_summ = np.append(sel_summ, sort_summ[j])  \n",
    "            sel_quant = np.append(sel_quant, quantity(sort_summ[j]))\n",
    "            t += 1\n",
    "            if t == n_best:\n",
    "                break\n",
    "\n",
    "    sel_summ=np.reshape(sel_summ,[t,n])\n",
    "        \n",
    "    return sel_summ "
   ]
  },
  {
   "cell_type": "markdown",
   "metadata": {},
   "source": [
    "Testowanie funkcji <b>selection()</b>. Sprawdzenie, że funkcja działa poprawnie:"
   ]
  },
  {
   "cell_type": "code",
   "execution_count": 17,
   "metadata": {},
   "outputs": [
    {
     "name": "stdout",
     "output_type": "stream",
     "text": [
      "[[33.  9.  1. 34. 60. 56. 82.  6. 50. 77. 26. 45. 44.  3. 60.  6. 21. 37.\n",
      "  94.  9. 59. 61. 11. 12. 42. 36. 92. 11. 18. 26. 11. 74. 96.  1. 57. 61.\n",
      "  33. 36. 39. 40. 25. 20. 26. 15. 80. 48.  7. 77. 42. 59.  6. 85.  3. 14.\n",
      "   8. 41. 31. 80.  7.  4.  5. 23. 82. 79. 70. 49. 74. 62. 26. 69. 59. 23.\n",
      "  52. 10. 44. 51.  1. 24. 45. 15. 10. 95. 42. 20. 53. 63. 13.  9. 61. 50.\n",
      "  55. 99. 27. 17. 14. 68. 21. 58. 85. 83.]\n",
      " [33.  1. 24. 41. 99.  5.  9. 26. 76. 46. 58. 20.  0. 48. 47. 19.  4. 54.\n",
      "  37.  8. 85. 56. 83. 32. 21. 52. 38. 25. 35. 68. 93. 27.  9.  1. 29. 47.\n",
      "  78. 16. 45. 32.  8. 22. 67. 44. 89. 59. 65. 19. 25. 80. 55. 14.  3. 32.\n",
      "  45. 35. 69. 93. 11. 57. 50. 62. 51. 99. 32. 25. 52. 82. 51.  1. 98. 41.\n",
      "   0. 39.  2. 47. 91. 80. 50. 16.  9.  9. 30. 75. 94. 32. 36. 17. 39.  4.\n",
      "  16. 82. 20.  8. 22. 64. 78.  3. 11. 59.]\n",
      " [33. 11.  3. 23.  8.  3. 12. 66. 71. 51. 29.  9. 17. 30. 23. 61. 85. 94.\n",
      "  98. 98. 38. 62. 85. 14. 11. 36.  9. 77. 37. 89. 67. 20. 38. 14.  9. 80.\n",
      "  96. 46. 35. 71. 25. 57.  9.  2.  2. 48.  5. 40. 39. 61. 81. 39. 61. 24.\n",
      "   1. 87. 61. 53. 81. 66. 68. 39. 30. 74.  9. 65. 38. 10. 94. 15. 23. 88.\n",
      "   8. 41. 94. 35.  1. 25. 88. 75. 48. 19. 15. 50. 26. 37. 40.  5.  5. 75.\n",
      "  10.  0. 75. 87.  9.  5. 33. 22. 19. 50.]]\n"
     ]
    }
   ],
   "source": [
    "# test\n",
    "population2=selection(population, 3) # wybranie 3 najlepszych\n",
    "print(population2)"
   ]
  },
  {
   "cell_type": "markdown",
   "metadata": {},
   "source": [
    "# Mutacja"
   ]
  },
  {
   "cell_type": "markdown",
   "metadata": {},
   "source": [
    "Celem operatora mutacji jest okresowa, losowa aktualizacja populacji, to znaczy wprowadzenie nowych kombinacji genów do chromosomów, stymulując tym samym poszukiwania w niezbadanych obszarach przestrzeni rozwiązań."
   ]
  },
  {
   "cell_type": "code",
   "execution_count": 18,
   "metadata": {},
   "outputs": [],
   "source": [
    "def mutation(nr_kontenera, probability): # nr_kontenera - osobnik, p - prawdopodobieństwo zajścia mutacji \n",
    "    if np.random.random() < probability:\n",
    "        ind1=np.random.randint(n) \n",
    "        ind2=np.random.randint(n) \n",
    "        nr_kontenera[ind1]=nr_kontenera[ind2] \n",
    "        \n",
    "    return nr_kontenera"
   ]
  },
  {
   "cell_type": "code",
   "execution_count": 19,
   "metadata": {},
   "outputs": [
    {
     "name": "stdout",
     "output_type": "stream",
     "text": [
      "[33.  9.  1. 34. 60. 56. 82.  6. 50. 77. 26. 45. 44.  3. 60.  6. 21. 37.\n",
      " 94.  9. 59. 61. 11. 12. 42. 36. 92. 11. 18. 26. 11. 74. 96.  1. 57. 61.\n",
      " 33. 36. 39. 40. 25. 20. 26. 15. 80. 48.  7. 77. 42. 59.  6. 85.  3. 14.\n",
      "  8. 41. 31. 80.  7.  4.  5. 23. 82. 79. 70. 49. 74. 62. 26. 69. 59. 23.\n",
      " 52. 10. 44. 51.  1. 24. 45. 15. 10. 95. 42. 20. 53. 63. 13.  9. 61. 50.\n",
      " 55. 99. 27. 17. 14. 68. 21. 58. 85. 83.]\n"
     ]
    }
   ],
   "source": [
    "print(population2[0])"
   ]
  },
  {
   "cell_type": "markdown",
   "metadata": {},
   "source": [
    "Wynik uzyskany po <i>mutacji</i> losowej :"
   ]
  },
  {
   "cell_type": "code",
   "execution_count": 20,
   "metadata": {},
   "outputs": [
    {
     "name": "stdout",
     "output_type": "stream",
     "text": [
      "[33.  9.  1. 34. 60. 56. 82.  6. 50. 77. 26. 45. 44.  3. 60.  6. 21. 37.\n",
      " 94.  9. 59. 61. 11. 12. 42. 36. 92. 11. 18. 26. 11. 74. 96.  1. 57. 61.\n",
      " 33. 36. 39. 40. 25. 20. 26. 15. 80. 48.  7. 77. 42. 59.  6. 85.  3. 14.\n",
      "  8. 41. 31. 80.  7.  4.  5. 23. 82. 79. 70. 49. 99. 62. 26. 69. 59. 23.\n",
      " 52. 10. 44. 51.  1. 24. 45. 15. 10. 95. 42. 20. 53. 63. 13.  9. 61. 50.\n",
      " 55. 99. 27. 17. 14. 68. 21. 58. 85. 83.]\n"
     ]
    }
   ],
   "source": [
    "print(mutation(population2[0], 0.8)) # prawdopodobieństwo mutacji = 0.8"
   ]
  },
  {
   "cell_type": "markdown",
   "metadata": {},
   "source": [
    "# Krzyżowanie"
   ]
  },
  {
   "cell_type": "markdown",
   "metadata": {},
   "source": [
    "Aby stworzyć parę nowych osobników, zazwyczaj wybiera się rodziców z obecnego pokolenia, a części ich chromosomów są zamieniane (krzyżowane), w wyniku czego powstają dwa nowe chromosomy reprezentujące potomstwo."
   ]
  },
  {
   "cell_type": "code",
   "execution_count": 21,
   "metadata": {},
   "outputs": [],
   "source": [
    "def crossover(father, mother): # dwoje rodziców\n",
    "    cut=np.random.randint(n) # losowe miejsce przecięcia chromosomu \n",
    "    chm=np.delete(mother, np.arange(0,cut, 1))\n",
    "    chp=np.delete(father, np.arange(cut, n, 1))    \n",
    "    child=np.concatenate((chp,chm),axis=0) # dziecko\n",
    "    mutation(child, 0.8) # losowa mutacja\n",
    "    \n",
    "    return child # dziecko (potomstwo)"
   ]
  },
  {
   "cell_type": "markdown",
   "metadata": {},
   "source": [
    "## Czas stworzyć dynastię"
   ]
  },
  {
   "cell_type": "code",
   "execution_count": 22,
   "metadata": {},
   "outputs": [],
   "source": [
    "n_children = 3*population_size # liczebność dzieci"
   ]
  },
  {
   "cell_type": "code",
   "execution_count": 23,
   "metadata": {},
   "outputs": [],
   "source": [
    "def generation(population_def, population_size_def):      \n",
    "    children=np.array([crossover(population_def[np.random.randint(len(population_def))],\\\n",
    "                             population_def[np.random.randint(len(population_def))]) for _ in range(n_children)])\n",
    "                               \n",
    "    family = np.concatenate((population_def, children), axis = 0) # dodanie dzieci do populacji rodziców        \n",
    "    population = selection(family, population_size_def)\n",
    "\n",
    "    return population"
   ]
  },
  {
   "cell_type": "markdown",
   "metadata": {},
   "source": [
    "Narodziny kolejnych 300 pokoleń, których rozwiązania są unikalne.\n",
    "Wybieramy tylko to, co najlepsze w każdym pokoleniu."
   ]
  },
  {
   "cell_type": "code",
   "execution_count": 24,
   "metadata": {},
   "outputs": [
    {
     "name": "stdout",
     "output_type": "stream",
     "text": [
      "64 68 59 63 60 59 57 55 48 53 51 54 53 50 50 48 47 47 44 43 41 39 39 42 39 40 38 39 36 35 35 35 36 32 32 34 36 32 34 31 31 30 30 29 29 30 30 29 29 28 27 27 27 28 25 25 25 25 27 27 25 25 26 25 25 25 26 24 24 25 25 25 24 24 24 24 24 24 24 24 24 24 24 24 24 24 24 24 24 24 23 21 21 21 21 21 22 23 21 21 21 21 21 21 21 20 20 20 20 21 21 20 20 20 20 19 19 19 19 19 19 19 19 19 19 19 19 19 19 19 19 19 19 19 19 19 19 19 19 18 18 18 18 18 18 18 18 18 18 18 18 18 18 18 18 18 18 18 18 18 18 18 18 18 18 18 18 18 18 18 18 18 18 18 18 18 18 18 18 18 18 18 18 18 18 18 18 18 18 18 18 18 18 18 18 18 18 18 18 18 18 18 18 18 18 18 18 18 18 18 18 18 18 18 18 18 18 18 18 18 18 18 18 18 18 18 18 18 18 18 18 18 18 18 18 18 18 18 18 18 18 18 18 18 18 18 18 18 18 18 18 18 18 18 18 18 18 18 18 18 18 18 18 18 18 18 18 18 18 18 18 18 18 18 18 18 18 18 18 18 18 18 18 18 18 18 18 18 18 18 18 18 18 18 18 18 18 18 18 18 "
     ]
    }
   ],
   "source": [
    "for _ in range(300):\n",
    "    population = generation(population, population_size)    \n",
    "    quan = quantity(population[0]) # Minimalna liczba używanych kontenerów   \n",
    "    \n",
    "    print(quan, end=' ')"
   ]
  },
  {
   "cell_type": "markdown",
   "metadata": {},
   "source": [
    "### Uczyńmy nazwy zmiennych w bardziej reprezentatywnej formie"
   ]
  },
  {
   "cell_type": "code",
   "execution_count": 29,
   "metadata": {},
   "outputs": [],
   "source": [
    "final_volume = [volume(population[0]) for _ in volume(population[0])]\n",
    "quant = quantity(population[0]) # Minimalna liczba używanych kontenerów\n",
    "\n",
    "final_volume2 = [] \n",
    "for i in range(quant):\n",
    "    final_volume2.append(final_volume[0][0][i]) # Używana objętość każdego pojemnika    "
   ]
  },
  {
   "cell_type": "code",
   "execution_count": 30,
   "metadata": {},
   "outputs": [
    {
     "name": "stdout",
     "output_type": "stream",
     "text": [
      "\n",
      "Minimalna liczba używanych kontenerów:  18\n"
     ]
    }
   ],
   "source": [
    "print('\\nMinimalna liczba używanych kontenerów: ', quant)"
   ]
  },
  {
   "cell_type": "code",
   "execution_count": 34,
   "metadata": {},
   "outputs": [
    {
     "data": {
      "image/png": "[encoded data removed]",
      "text/plain": [
       "<Figure size 1080x216 with 1 Axes>"
      ]
     },
     "metadata": {
      "needs_background": "light"
     },
     "output_type": "display_data"
    }
   ],
   "source": [
    "plot.figure(figsize=(15, 3))\n",
    "x = np.arange(quant) # Liczba używanych kontenerów\n",
    "plot.bar(x+1, height = final_volume2)\n",
    "\n",
    "# rysowanie linii poziomej == maksymalna objetość każdego kontenera\n",
    "plot.axhline(y = v_max, color = 'r', linewidth=4, linestyle = '--', label='maksymalna objetość kontenera')  \n",
    "\n",
    "plot.xlabel('Liczba kontenerów', fontsize=15, color='green')\n",
    "plot.ylabel('Używana objętość', fontsize=15, color='green')\n",
    "\n",
    "#plt.grid()\n",
    "plot.legend(fontsize=12)\n",
    "plot.show()"
   ]
  },
  {
   "cell_type": "markdown",
   "metadata": {},
   "source": [
    "# Wniosek"
   ]
  },
  {
   "cell_type": "markdown",
   "metadata": {},
   "source": [
    "Korzystając z Algorytmu Genetycznego, staraliśmy znaleźć minimalną liczbę pojemników wymaganych do spakowania wszystkich przedmiotów. Istnieje jednak duże prawdopodobieństwo, że to rozwiązanie nie jest najbardziej optymalne (jak widać na wykresie, <i>nie wszystkie</i> słupki osiągają maksimum.). Ale w przypadku problemów ze złożonością kombinatoryczną NP, takie podejście jest całkiem uzasadnione."
   ]
  },
  {
   "cell_type": "markdown",
   "metadata": {},
   "source": [
    "# Źródła inspiracji:"
   ]
  },
  {
   "cell_type": "markdown",
   "metadata": {},
   "source": [
    "* <b>Materiał</b> z Wykładu cz. II i IV (Algorytmy ewolucyjne)\n",
    "* <b>Genetic Algorithms with Python</b> by Clinton Sheppard\n",
    "* <b>Hands-On Genetic Algorithms with Python</b> by Eyal Wirsansky"
   ]
  },
  {
   "cell_type": "code",
   "execution_count": null,
   "metadata": {},
   "outputs": [],
   "source": [
    "\n"
   ]
  }
 ],
 "metadata": {
  "kernelspec": {
   "display_name": "Python 3",
   "language": "python",
   "name": "python3"
  },
  "language_info": {
   "codemirror_mode": {
    "name": "ipython",
    "version": 3
   },
   "file_extension": ".py",
   "mimetype": "text/x-python",
   "name": "python",
   "nbconvert_exporter": "python",
   "pygments_lexer": "ipython3",
   "version": "3.7.7"
  }
 },
 "nbformat": 4,
 "nbformat_minor": 4
}
