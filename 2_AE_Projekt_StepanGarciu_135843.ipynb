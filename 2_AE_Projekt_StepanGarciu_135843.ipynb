{
 "cells": [
  {
   "cell_type": "markdown",
   "metadata": {},
   "source": [
    "# Problem z pakowaniem pojemników  z pomocą AG\n",
    "(Bin packing problem)"
   ]
  },
  {
   "cell_type": "markdown",
   "metadata": {},
   "source": [
    "<p align=\"center\">\n",
    "  <img width=\"660\" height=\"300\" src=\"https://scipbook.readthedocs.io/en/latest/_images/bpp-instance.png\">\n",
    "</p>"
   ]
  },
  {
   "cell_type": "markdown",
   "metadata": {},
   "source": [
    "W przypadku problemu pakowania w pojemniki przedmioty o różnej objętości muszą być pakowane w liczbę pojemników, z których każdy ma określoną objętość w sposób minimalizujący liczbę używanych pojemników. "
   ]
  },
  {
   "cell_type": "markdown",
   "metadata": {},
   "source": [
    "W teorii złożoności obliczeniowej jest to kombinatoryczny problem <b>NP</b> - trudny."
   ]
  },
  {
   "cell_type": "markdown",
   "metadata": {},
   "source": [
    "<p align=\"center\">\n",
    "  <img width=\"660\" height=\"300\" src=\"https://scipbook.readthedocs.io/en/latest/_images/bpp-solution.png\">\n",
    "</p>"
   ]
  },
  {
   "cell_type": "markdown",
   "metadata": {},
   "source": [
    "Spróbujmy rozwiązać ten problem za pomocą <b>Algorytmu Genetycznego</b>."
   ]
  },
  {
   "cell_type": "markdown",
   "metadata": {},
   "source": [
    "Jednak przed przystąpieniem do projektu postanowiłem uzupełnić braki wiedzy i kupiłem książkę: [\"Genetic Algorithms with Python\" by Clinton Sheppard](https://leanpub.com/genetic_algorithms_with_python)\n",
    "\n",
    "(Jeśli ktoś jest zainteresowany, mogę wysłać książkę jako osobistą wiadomość w formacie .pdf)"
   ]
  },
  {
   "cell_type": "markdown",
   "metadata": {},
   "source": [
    "# Sekwencja działań algorytmu"
   ]
  },
  {
   "cell_type": "markdown",
   "metadata": {},
   "source": [
    "Najczęściej działanie algorytmu przebiega następująco:"
   ]
  },
  {
   "cell_type": "markdown",
   "metadata": {},
   "source": [
    "* Losowana jest pewna populacja <i>początkowa</i>\n",
    "* Selekcja\n",
    "* Krzyżowanie\n",
    "* Mutacja\n",
    "* Rodzi się drugie (kolejne) pokolenie\n",
    "* Jeśli znajdziemy wystarczająco dobre rozwiązanie, wybieramy najlepszego osobnika z populacji - jego genotyp to uzyskany <b>wynik</b>."
   ]
  },
  {
   "cell_type": "code",
   "execution_count": 1,
   "metadata": {},
   "outputs": [],
   "source": [
    "from collections import Counter # rodzaj słownika, który pozwala policzyć liczbę niezmiennych obiektów\n",
    "\n",
    "import numpy as np\n",
    "import matplotlib.pyplot as plot"
   ]
  },
  {
   "cell_type": "markdown",
   "metadata": {},
   "source": [
    "# Populacja"
   ]
  },
  {
   "cell_type": "markdown",
   "metadata": {},
   "source": [
    "W dowolnym momencie algorytm genetyczny przechowuje populację osobników - zbiór potencjalnych rozwiązań danego problemu."
   ]
  },
  {
   "cell_type": "code",
   "execution_count": 2,
   "metadata": {},
   "outputs": [],
   "source": [
    "n = 100 # liczba przedmiotów, które chcemy zmieścić w kontenerach"
   ]
  },
  {
   "cell_type": "code",
   "execution_count": 3,
   "metadata": {},
   "outputs": [
    {
     "data": {
      "text/plain": [
       "array([0.084, 0.092, 0.716, 0.73 , 0.868, 0.152, 0.074, 0.341, 0.049,\n",
       "       0.326, 0.012, 0.794, 0.055, 0.903, 0.564, 0.4  , 0.702, 0.075,\n",
       "       0.89 , 0.04 , 0.22 , 0.873, 0.315, 0.655, 0.412, 0.329, 0.583,\n",
       "       0.678, 0.039, 0.613, 0.203, 0.621, 0.948, 0.736, 0.252, 0.013,\n",
       "       0.196, 0.458, 0.742, 0.597, 0.983, 0.205, 0.704, 0.092, 0.868,\n",
       "       0.082, 0.929, 0.622, 0.075, 0.661, 0.919, 0.463, 0.789, 0.287,\n",
       "       0.04 , 0.875, 0.94 , 0.955, 0.727, 0.771, 0.864, 0.609, 0.733,\n",
       "       0.9  , 0.842, 0.477, 0.99 , 0.33 , 0.308, 0.769, 0.861, 0.703,\n",
       "       0.396, 0.275, 0.399, 0.726, 0.392, 0.639, 0.106, 0.159, 0.786,\n",
       "       0.766, 0.014, 0.854, 0.429, 0.603, 0.317, 0.909, 0.622, 0.725,\n",
       "       0.215, 0.87 , 0.563, 0.023, 0.091, 0.19 , 0.818, 0.796, 0.994,\n",
       "       0.07 ])"
      ]
     },
     "execution_count": 3,
     "metadata": {},
     "output_type": "execute_result"
    }
   ],
   "source": [
    "v = np.random.random(size = n) # objetości tych przedmiotów\n",
    "np.round(v, 3)"
   ]
  },
  {
   "cell_type": "code",
   "execution_count": 4,
   "metadata": {},
   "outputs": [],
   "source": [
    "v_max = 3 # maksymalna objetość każdego kontenera"
   ]
  },
  {
   "cell_type": "markdown",
   "metadata": {},
   "source": [
    "Stąd mamy obiekty o pewnej objętości $v_i$, $i=1,...,n$ i dowolną liczbę kontenerów, każdy o pojemności <i>v_max</i>."
   ]
  },
  {
   "cell_type": "markdown",
   "metadata": {},
   "source": [
    "<i>Jaka jest najmniejsza liczba kontenerów potrzebna, by spakować wszystkie obiekty?</i>"
   ]
  },
  {
   "cell_type": "markdown",
   "metadata": {},
   "source": [
    "# Rozwiązania w populacji"
   ]
  },
  {
   "cell_type": "markdown",
   "metadata": {},
   "source": [
    "Reprezentacja załadowania $nr$_$kontenera()$ :\n",
    "* $[i_1,i_2,\\dots,i_n]$,  gdzie $i_k$ oznacza № kontenera, w którym jest obiekt $k$."
   ]
  },
  {
   "cell_type": "code",
   "execution_count": 5,
   "metadata": {},
   "outputs": [
    {
     "name": "stdout",
     "output_type": "stream",
     "text": [
      "[42 21 50 38 10 66 76 23 22  9 39 88 96 22 46 15 36 18 17 34 80 24 10  2\n",
      " 90 94 90 13 28 82 50 13 41 95 42 77 36 50 92 68 89 92 76 72 48 96 90 16\n",
      " 65 44 40 35 65 91 62 12 74 86  5 33  5 23 75 52 16 81 21 47 53 28 42 22\n",
      " 73 73 73 18 64 26 87  9 72 10 32 33  9 85 44 87 89 97 98 12 74 29 33 45\n",
      " 19 91 95 96]\n"
     ]
    }
   ],
   "source": [
    "def nr_kontenera(): # konfiguracja numerów kontenera\n",
    "    return np.random.randint(n, size=n) # wybrany losowo\n",
    "\n",
    "print(nr_kontenera())"
   ]
  },
  {
   "cell_type": "markdown",
   "metadata": {},
   "source": [
    "# W rozwiązaniu tego problemu pomoże nam ludność całego miasta"
   ]
  },
  {
   "cell_type": "code",
   "execution_count": 6,
   "metadata": {},
   "outputs": [
    {
     "data": {
      "text/plain": [
       "array([[88,  4,  5, ..., 64, 61, 21],\n",
       "       [12, 68, 86, ..., 68, 55, 84],\n",
       "       [29, 98,  9, ..., 12, 60, 95],\n",
       "       ...,\n",
       "       [77, 91, 71, ..., 92,  1, 37],\n",
       "       [69, 34, 56, ...,  1, 86, 50],\n",
       "       [92, 62, 19, ..., 42, 62, 29]])"
      ]
     },
     "execution_count": 6,
     "metadata": {},
     "output_type": "execute_result"
    }
   ],
   "source": [
    "population_size = 2000 # populacja początkowa 100000 osobników \n",
    "\n",
    "# każda osoba z populacji wybiera własną konfigurację numerów kontenerów \n",
    "population = np.array([nr_kontenera() for _ in range(population_size)])\n",
    "population "
   ]
  },
  {
   "cell_type": "code",
   "execution_count": 7,
   "metadata": {},
   "outputs": [],
   "source": [
    "population_popu = [ ]\n",
    "for i in range(population_size):\n",
    "    population_popu.append(population[i])"
   ]
  },
  {
   "cell_type": "code",
   "execution_count": 8,
   "metadata": {},
   "outputs": [
    {
     "data": {
      "text/plain": [
       "array([88,  4,  5, 50, 63, 77, 10, 17, 75, 13, 55, 52, 77, 45, 65, 92, 48,\n",
       "       67, 79, 57, 69, 19, 28, 14, 27, 17, 34, 37, 81, 39, 67, 93, 80, 94,\n",
       "       34, 88, 16, 42, 89, 78, 24, 15, 69, 57, 66, 51, 40, 63, 14, 23, 53,\n",
       "       32, 90, 25, 77, 15, 32,  9, 20, 24,  6, 22,  9, 66, 38, 54,  3, 77,\n",
       "       72, 71, 28, 40, 50, 17, 40, 44, 33, 49, 32, 85, 10, 63,  6, 60, 16,\n",
       "       84,  5, 16, 39, 93, 54, 85, 77, 34, 55,  1, 37, 64, 61, 21])"
      ]
     },
     "execution_count": 8,
     "metadata": {},
     "output_type": "execute_result"
    }
   ],
   "source": [
    "population_popu[0]"
   ]
  },
  {
   "cell_type": "markdown",
   "metadata": {},
   "source": [
    "Liczymy liczbę użytych kontenerów za pomozą funkcji <b>quantity()</b>"
   ]
  },
  {
   "cell_type": "code",
   "execution_count": 9,
   "metadata": {},
   "outputs": [
    {
     "data": {
      "text/plain": [
       "64"
      ]
     },
     "execution_count": 9,
     "metadata": {},
     "output_type": "execute_result"
    }
   ],
   "source": [
    "def quantity(nr_kontenera):                \n",
    "    myDict = Counter(nr_kontenera) # Counter - rodzaj słownika, który pozwala policzyć liczbę niezmiennych obiektów\n",
    "    return len(myDict) # liczba unikalnych elementów == liczba użytych kontenerów !!!\n",
    "\n",
    "quantity(population_popu[0]) # Pierwsza osoba z populacji wybrała X kontenery"
   ]
  },
  {
   "cell_type": "markdown",
   "metadata": {},
   "source": [
    "Obliczamy zużytą objętość każdego pojemnika, która została wybrana przez każdą osobę z populacji za pomozą funkcji <b>volume()</b>"
   ]
  },
  {
   "cell_type": "code",
   "execution_count": 10,
   "metadata": {},
   "outputs": [],
   "source": [
    "def volume(nr_kontenera):  \n",
    "    ress_final = []    \n",
    "    ress = []\n",
    "    for j in range(n):\n",
    "        nr_kont = nr_kontenera[j]\n",
    "        summ = 0        \n",
    "        for u in range(n):\n",
    "            if nr_kont == nr_kontenera[u]: # jeśli przedmioty należą do jednego pojemnika, sumuje się ich objętość !!!\n",
    "                summ += v[u]             \n",
    "        ress.append(summ)\n",
    "    new_ress = list(set(ress))\n",
    "    ress_final.append(new_ress)\n",
    "    return ress_final"
   ]
  },
  {
   "cell_type": "markdown",
   "metadata": {},
   "source": [
    "Wykorzystana objętość pojemników przez pierwszą osobę:"
   ]
  },
  {
   "cell_type": "code",
   "execution_count": 11,
   "metadata": {},
   "outputs": [
    {
     "data": {
      "text/plain": [
       "[0.09611799636837237,\n",
       " 0.09200383599611173,\n",
       " 2.255821435907266,\n",
       " 1.1260016536457877,\n",
       " 1.0325208769609642,\n",
       " 1.140525391027889,\n",
       " 0.860690701495315,\n",
       " 0.9446304793371281,\n",
       " 0.048664100457634474,\n",
       " 0.3260039840791208,\n",
       " 1.1764357238105205,\n",
       " 1.4957189845859205,\n",
       " 0.4579658403641833,\n",
       " 0.5974802960944335,\n",
       " 1.080288693671342,\n",
       " 1.7677188509874586,\n",
       " 0.7893428847235847,\n",
       " 0.9483262692006156,\n",
       " 0.6091492895245346,\n",
       " 0.8537656245065968,\n",
       " 0.7956249581650303,\n",
       " 0.18989446244139774,\n",
       " 1.5330431182496478,\n",
       " 1.5093101626676122,\n",
       " 1.6873505381571159,\n",
       " 0.8902356581665692,\n",
       " 0.13122865954792606,\n",
       " 0.412066747483124,\n",
       " 0.7421118123601275,\n",
       " 0.6919649422743358,\n",
       " 0.9895440940275758,\n",
       " 0.6613724399597953,\n",
       " 0.6032261741782379,\n",
       " 0.9245110632963597,\n",
       " 0.8731674274652518,\n",
       " 2.031263563204629,\n",
       " 0.2778155187991984,\n",
       " 0.8779099203737442,\n",
       " 0.8424825526159612,\n",
       " 0.7693564283037098,\n",
       " 0.0704974716269351,\n",
       " 1.7534268199454306,\n",
       " 0.7262584400765036,\n",
       " 0.08161388592277508,\n",
       " 0.918599679763795,\n",
       " 0.391744306453373,\n",
       " 1.2342056543667104,\n",
       " 0.9941438833388077,\n",
       " 0.902807853568338,\n",
       " 0.5640317714214823,\n",
       " 0.30781634193066865,\n",
       " 1.0290210664982364,\n",
       " 0.2871029916795784,\n",
       " 0.7018134557147679,\n",
       " 0.8581834292117769,\n",
       " 0.7355027182561564,\n",
       " 0.6390155605252902,\n",
       " 0.1038494027625716,\n",
       " 0.7935092040336484,\n",
       " 1.3459356839819914,\n",
       " 0.3998245742928038,\n",
       " 0.03880458543194509,\n",
       " 0.7295132990793147,\n",
       " 0.7273122370328106]"
      ]
     },
     "execution_count": 11,
     "metadata": {},
     "output_type": "execute_result"
    }
   ],
   "source": [
    "alll = volume(population_popu[0])\n",
    "NEW_alll = alll[0]\n",
    "NEW_alll # liczba elementów NEW_alll == liczba użytych kontenerów !!!"
   ]
  },
  {
   "cell_type": "markdown",
   "metadata": {},
   "source": [
    "Do tablicy <b>numerów</b> dodajemy <b>liczbę</b> użytych kontenerów :"
   ]
  },
  {
   "cell_type": "code",
   "execution_count": 12,
   "metadata": {},
   "outputs": [],
   "source": [
    "nr_count = [[nr_kontenera, quantity(nr_kontenera)] for nr_kontenera in population_popu]\n",
    "#nr_count"
   ]
  },
  {
   "cell_type": "code",
   "execution_count": 13,
   "metadata": {},
   "outputs": [
    {
     "data": {
      "text/plain": [
       "[array([12, 68, 86, 44, 61, 51, 31,  0,  9, 98, 80, 93, 37, 73,  7, 50, 52,\n",
       "        84, 40, 26, 64,  9, 75, 45, 24, 23, 17, 97,  6,  1, 64, 96, 60,  7,\n",
       "        12, 92, 78,  8, 16,  4, 49, 45, 12, 93, 69, 84, 24,  5,  4, 72, 54,\n",
       "        61, 61, 96, 50, 66, 16, 85, 60,  2, 55, 86, 78,  7, 61, 78, 47, 95,\n",
       "         3, 54, 53, 63, 34, 41, 13, 59, 48, 97, 23, 60, 41, 76, 81, 88, 58,\n",
       "        50, 27, 45, 30,  2, 38, 20, 46, 41, 63, 84, 31, 68, 55, 84]),\n",
       " 64]"
      ]
     },
     "execution_count": 13,
     "metadata": {},
     "output_type": "execute_result"
    }
   ],
   "source": [
    "nr_count[1]"
   ]
  },
  {
   "cell_type": "markdown",
   "metadata": {},
   "source": [
    "Sortowanie według liczby zużytych pojemników (rosnąco):"
   ]
  },
  {
   "cell_type": "code",
   "execution_count": 14,
   "metadata": {
    "scrolled": false
   },
   "outputs": [
    {
     "data": {
      "text/plain": [
       "[array([67,  6, 84, 62, 42, 57,  9, 55, 91, 59,  3, 44,  3, 94, 42,  0, 17,\n",
       "        82, 25,  3, 66, 83, 34, 94, 79, 61, 49, 53, 19, 20, 60, 22,  3, 99,\n",
       "        35, 32, 62, 66, 29, 39, 22, 32, 97, 38, 60, 29, 27, 82, 32, 49, 44,\n",
       "        79,  1, 92, 72,  7, 51,  9, 11, 34, 98, 91, 78, 27, 11, 78, 35, 96,\n",
       "        49, 44, 11, 42, 20, 20, 51, 96, 31, 25,  3, 12, 90,  4, 59, 83, 97,\n",
       "        14, 25, 28,  0, 86, 22, 94, 49, 99, 55, 84,  3, 30, 99, 57]),\n",
       " 53]"
      ]
     },
     "execution_count": 14,
     "metadata": {},
     "output_type": "execute_result"
    }
   ],
   "source": [
    "sort = sorted(nr_count, key=lambda x: x[1]) \n",
    "sort[0]\n",
    "\n",
    "#można uruchomić i zobaczyć, jaki jest wynik"
   ]
  },
  {
   "cell_type": "code",
   "execution_count": 15,
   "metadata": {},
   "outputs": [],
   "source": [
    "sort_sort_sort = []\n",
    "for i in range(100):\n",
    "    sort_sort_sort.append(i)"
   ]
  },
  {
   "cell_type": "markdown",
   "metadata": {},
   "source": [
    "# Selekcja"
   ]
  },
  {
   "cell_type": "markdown",
   "metadata": {},
   "source": [
    "Po obliczeniu sprawności wszystkich osobników w populacji rozpoczyna się proces <b>selekcji</b>, który określa, które osobniki zostaną pozostawione do <b>reprodukcji</b>, czyli stworzenie potomstwa, które będzie stanowić następne pokolenie."
   ]
  },
  {
   "cell_type": "code",
   "execution_count": 16,
   "metadata": {},
   "outputs": [],
   "source": [
    "def selection(popu, n_best):\n",
    "    sel = [] \n",
    "    sort_s = []\n",
    "    sort_sort = []      \n",
    "    sel_summ = [[]]\n",
    "    sel_quant = []\n",
    "    k = 0 \n",
    "    t = 0        \n",
    "    \n",
    "    com = [[nr_kontenera, quantity(nr_kontenera)] for nr_kontenera in popu]\n",
    "    popu_c = sorted(com, key=lambda x: x[1])\n",
    "    sort_summ = [x[0] for x in popu_c]   \n",
    "    \n",
    "    for j in range(len(sort_summ)):\n",
    "        # Pozostawiamy tylko te kombinacje, które spełniają warunek:\n",
    "        # Objętość pojemników nie przekracza dopuszczalnej wartości\n",
    "        wynik = all(item <= v_max for item in volume(sort_summ[j])[0])\n",
    "        if wynik == True:          \n",
    "            sel_summ = np.append(sel_summ, sort_summ[j])  \n",
    "            sel_quant = np.append(sel_quant, quantity(sort_summ[j]))\n",
    "            t += 1\n",
    "        sel_summ=np.reshape(sel_summ,[t,n])\n",
    "        sel_summ=sel_summ.astype(np.int) \n",
    "        sel_quant=np.reshape(sel_quant,[t,1])\n",
    "        sel_quant=sel_quant.astype(np.int) \n",
    "        \n",
    "        \n",
    "    # wybieramy preferencyjnie kontenery o najniższych numerach    \n",
    "    for i in range(t): \n",
    "        if k==n_best+1:\n",
    "            break\n",
    "        if i < t - 1:\n",
    "\n",
    "            if sel_quant[i] == sel_quant[i+1]:  \n",
    "                # Dla każdej konfiguracji tworzymy sumę po numerach kontenerów\n",
    "                if sum(sel_summ[i]) < sum(sel_summ[i+1]):\n",
    "                    sort_s = sel_summ[i]\n",
    "                    \n",
    "\n",
    "                elif sum(sel_summ[i]) > sum(sel_summ[i+1]):\n",
    "                    sort_s = sel_summ[i+1] \n",
    "                      \n",
    "                else:                    \n",
    "                    continue\n",
    "\n",
    "            else:\n",
    "                if len(sort_s) != 0 :\n",
    "                    k += 1\n",
    "                    sort_sort= np.append(sort_sort, sort_s) \n",
    "                    sort_sort2=np.reshape(sort_sort,[k,n])\n",
    "                    continue\n",
    "                    \n",
    "                else:\n",
    "                    sort_s = sel_summ[i]  \n",
    "                    \n",
    "    sort_sort2 = np.delete(sort_sort2, sort_sort_sort) \n",
    "    sort_sort2=np.reshape(sort_sort2,[k-1,n])\n",
    "   \n",
    "        \n",
    "    return sort_sort2.astype(np.int) "
   ]
  },
  {
   "cell_type": "code",
   "execution_count": 17,
   "metadata": {},
   "outputs": [
    {
     "name": "stdout",
     "output_type": "stream",
     "text": [
      "[[59 49 64 93 32 25 88 18 25 40 51 40 66 93 39 39 82 19 75 99 20 10 66 62\n",
      "  72 90 10 70 18 46  2 73 70 36 56 17 98 20 86 26 10 49 19 64 39 65 54 49\n",
      "  75 99 39 96  5  7 86 38 46 66 26  3 20 59 62 60 23 23 89 23 31 18 61 93\n",
      "  93 70  1 12 92 72 88  7 68 12 19 17 99 44 18 23 11 11 50 97 44 16 29 60\n",
      "  56 60 50 18]\n",
      " [42 30 93 73 30  8 96 93 50 14 97 37 14 24 71 82 54 11 37 34 53 48 76 96\n",
      "  95 93 17 93 68 76 98 19 86 89 55 38  7 13 36 63  6 34 76 58 59 17 83 32\n",
      "  90 10 10 88 19  7 89 99  6 25 90 18 24 34 86 14 66 13 50 38 86 71 63 17\n",
      "   4 37 12 82 14 80 98 19 64 16 52 22 30 65 82 59 23 13  8  2 93 82 88 80\n",
      "  80 68 68 79]\n",
      " [ 0 89 97 45 87 48 72 80 97 30 82 26 77 73 45  4 67 79 39 36 74 89 57 42\n",
      "  89 18 97 42 29 58 79 40  6 85  5 85 18 94 13 67 51 16 97  3 80 29 24 51\n",
      "  90 23 95 33 49 80 73 93 84 72 32 91  3 26 21 15 29 29 49 94 33 54 40  0\n",
      "  75 95 13 18 94 54 36 13 71 60 90 77 45 93 38 67 23 41 94 92 77 22  4  3\n",
      "  43 63 11 72]]\n"
     ]
    }
   ],
   "source": [
    "# test\n",
    "population2=selection(population_popu, 3) # wybranie 3 najlepszych\n",
    "print(population2)"
   ]
  },
  {
   "cell_type": "markdown",
   "metadata": {},
   "source": [
    "Następnie tworzymy tabelę składającą się z 3 elementów:\n",
    "* Numer kontenera \n",
    "* Liczba używanych kontenerów\n",
    "* Użyta objętość każdego pojemnika"
   ]
  },
  {
   "cell_type": "code",
   "execution_count": 18,
   "metadata": {},
   "outputs": [],
   "source": [
    "nr_quantity_volume = [[nr_kontenera, quantity(nr_kontenera), volume(nr_kontenera)] for nr_kontenera in population2]\n",
    "#nr_quantity_volume\n",
    "\n",
    "# można uruchomić i zobaczyć, jaki jest wynik"
   ]
  },
  {
   "cell_type": "markdown",
   "metadata": {},
   "source": [
    "# Mutacja"
   ]
  },
  {
   "cell_type": "markdown",
   "metadata": {},
   "source": [
    "Celem operatora mutacji jest okresowa, losowa aktualizacja populacji, to znaczy wprowadzenie nowych kombinacji genów do chromosomów, stymulując tym samym poszukiwania w niezbadanych obszarach przestrzeni rozwiązań."
   ]
  },
  {
   "cell_type": "code",
   "execution_count": 19,
   "metadata": {},
   "outputs": [],
   "source": [
    "def mutation(nr_kontenera, probability): # nr_kontenera - osobnik, p - prawdopodobieństwo zajścia mutacji \n",
    "    if np.random.random() < probability:\n",
    "        ind1=np.random.randint(n) \n",
    "        ind2=np.random.randint(n) \n",
    "#        print(ind)\n",
    "        nr_kontenera[ind1]=nr_kontenera[ind2] \n",
    "    return nr_kontenera"
   ]
  },
  {
   "cell_type": "code",
   "execution_count": 20,
   "metadata": {},
   "outputs": [
    {
     "name": "stdout",
     "output_type": "stream",
     "text": [
      "[59 49 64 93 32 25 88 18 25 40 51 40 66 93 39 39 82 19 75 99 20 10 66 62\n",
      " 72 90 10 70 18 46  2 73 70 36 56 17 98 20 86 26 10 49 19 64 39 65 54 49\n",
      " 75 99 39 96  5  7 86 38 46 66 26  3 20 59 62 60 23 23 89 23 31 18 61 93\n",
      " 93 70  1 12 92 72 88  7 68 12 19 17 99 44 18 23 11 11 50 97 44 16 29 60\n",
      " 56 60 50 18]\n"
     ]
    }
   ],
   "source": [
    "print(population2[0])"
   ]
  },
  {
   "cell_type": "markdown",
   "metadata": {},
   "source": [
    "Wynik uzyskany po <i>mutacji</i> losowej :"
   ]
  },
  {
   "cell_type": "code",
   "execution_count": 21,
   "metadata": {},
   "outputs": [
    {
     "name": "stdout",
     "output_type": "stream",
     "text": [
      "[59 49 64 93 32 25 88 18 25 40 51 40 66 93 39 39 82 19 75 99 20 10 66 62\n",
      " 72 90 10 70 18 46  2 73 70 36 56 17 98 20 86 26 10 49 19 64 39 65 54 49\n",
      " 75 99 39 96  5  7 86 38 46 66 26  3 20 59 62 60 23 23 89 23 31 18 61 93\n",
      " 93 70  1 20 92 72 88  7 68 12 19 17 99 44 18 23 11 11 50 97 44 16 29 60\n",
      " 56 60 50 18]\n"
     ]
    }
   ],
   "source": [
    "print(mutation(population2[0], 0.8)) # prawdopodobieństwo mutacji = 0.8"
   ]
  },
  {
   "cell_type": "markdown",
   "metadata": {},
   "source": [
    "# Krzyżowanie"
   ]
  },
  {
   "cell_type": "markdown",
   "metadata": {},
   "source": [
    "Aby stworzyć parę nowych osobników, zazwyczaj wybiera się rodziców z obecnego pokolenia, a części ich chromosomów są zamieniane (krzyżowane), w wyniku czego powstają dwa nowe chromosomy reprezentujące potomstwo."
   ]
  },
  {
   "cell_type": "code",
   "execution_count": 22,
   "metadata": {},
   "outputs": [],
   "source": [
    "def crossover(father, mother): # dwoje rodziców\n",
    "    cut=np.random.randint(1,n) # losowe miejsce przecięcia chromosomu \n",
    "    chp=np.delete(father, np.arange(cut, n, 1))\n",
    "    chm=np.delete(mother, np.arange(0,cut, 1))\n",
    "    child=np.concatenate((chp,chm),axis=0) # dziecko\n",
    "    mutation(child, 0.8) # losowa mutacja\n",
    "    return child # dziecko (potomstwo)"
   ]
  },
  {
   "cell_type": "markdown",
   "metadata": {},
   "source": [
    "## Czas stworzyć dynastię"
   ]
  },
  {
   "cell_type": "code",
   "execution_count": 23,
   "metadata": {},
   "outputs": [],
   "source": [
    "n_children = 3*population_size # liczebność dzieci"
   ]
  },
  {
   "cell_type": "code",
   "execution_count": 24,
   "metadata": {},
   "outputs": [],
   "source": [
    "def generation(population_def, population_size_def):      \n",
    "    children=np.array([crossover(population_def[np.random.randint(0,len(population_def))],\\\n",
    "                             population_def[np.random.randint(0,len(population_def))]) for _ in range(n_children)])\n",
    "                                  \n",
    "    family = np.concatenate((population_def,children)) # dodanie dzieci do populacji rodziców\n",
    "\n",
    "    return selection(family, population_size_def)"
   ]
  },
  {
   "cell_type": "markdown",
   "metadata": {},
   "source": [
    "Narodziny kolejnych X pokoleń, których rozwiązania są unikalne.\n",
    "Wybieramy tylko to, co najlepsze w każdym pokoleniu."
   ]
  },
  {
   "cell_type": "code",
   "execution_count": 25,
   "metadata": {},
   "outputs": [
    {
     "name": "stdout",
     "output_type": "stream",
     "text": [
      "53 52 52 52 52 52 51 50 49 49 49 49 49 48 47 47 46 46 46 45 45 45 45 44 44 44 44 44 43 43 42 41 41 40 40 40 40 40 40 40 40 40 40 40 40 39 39 39 39 39 39 39 40 39 39 38 38 37 37 37 36 36 36 35 35 35 35 35 36 36 36 37 35 35 34 34 35 35 35 35 35 36 36 36 36 36 36 36 36 36 36 36 36 36 36 36 36 36 35 35 35 35 35 35 35 35 35 35 35 35 34 34 34 34 34 34 34 34 34 34 35 35 35 35 35 35 35 35 35 35 35 35 35 35 35 35 35 35 35 35 35 35 35 34 34 34 34 34 34 34 34 35 34 34 34 34 33 33 33 33 33 33 33 33 33 33 33 33 33 33 34 34 34 34 34 34 34 34 34 35 35 35 35 35 35 35 35 35 35 35 35 35 35 35 34 34 34 34 34 34 "
     ]
    }
   ],
   "source": [
    "for _ in range(200):\n",
    "    population = generation(population, population_size)\n",
    "    quan = quantity(population[0]) # Minimalna liczba używanych kontenerów   \n",
    "    print(quan, end=' ')"
   ]
  },
  {
   "cell_type": "code",
   "execution_count": 26,
   "metadata": {},
   "outputs": [
    {
     "name": "stdout",
     "output_type": "stream",
     "text": [
      "34 34 34 34 33 33 33 33 33 33 33 33 33 33 33 33 33 33 32 33 33 33 33 33 33 33 33 33 33 33 33 33 33 33 33 33 33 33 33 33 33 33 33 33 33 32 32 32 32 32 32 32 32 32 32 32 31 31 31 31 31 31 31 31 31 31 31 31 31 31 31 31 31 31 31 31 31 31 31 32 31 31 31 31 31 31 31 31 31 31 31 31 31 31 31 31 31 31 31 31 "
     ]
    }
   ],
   "source": [
    "population1 = population\n",
    "for _ in range(100):\n",
    "    population1 = generation(population1, population_size)\n",
    "    quan = quantity(population1[0]) # Minimalna liczba używanych kontenerów   \n",
    "    print(quan, end=' ')"
   ]
  },
  {
   "cell_type": "code",
   "execution_count": 31,
   "metadata": {},
   "outputs": [
    {
     "name": "stdout",
     "output_type": "stream",
     "text": [
      "31 31 31 31 31 31 31 31 31 31 31 31 31 31 31 31 30 30 30 30 30 30 29 29 29 29 29 28 28 28 28 28 28 28 28 28 28 28 28 28 28 28 28 28 28 28 28 28 28 28 28 28 28 28 28 28 28 28 28 28 28 28 28 27 27 27 27 27 27 27 27 27 28 28 28 28 28 28 28 28 28 28 28 28 28 28 28 28 28 28 28 28 28 27 27 27 27 27 27 27 "
     ]
    }
   ],
   "source": [
    "population2 = population1\n",
    "for _ in range(100):\n",
    "    population2 = generation(population2, population_size)\n",
    "    quan = quantity(population2[0]) # Minimalna liczba używanych kontenerów   \n",
    "    print(quan, end=' ')"
   ]
  },
  {
   "cell_type": "markdown",
   "metadata": {},
   "source": [
    "# ! Przychodzi czas, kiedy liczba pokoleń jest zbyt duża i pojawia się błąd:\n",
    "    * index 0 is out of bounds for axis 0 with size 0"
   ]
  },
  {
   "cell_type": "code",
   "execution_count": 36,
   "metadata": {},
   "outputs": [
    {
     "name": "stdout",
     "output_type": "stream",
     "text": [
      "27 27 27 27 27 27 27 27 27 27 28 28 28 28 27 27 27 27 27 28 28 28 28 28 28 28 28 28 28 28 28 28 28 28 28 28 28 28 28 28 28 28 28 28 28 28 28 28 28 28 28 28 28 28 28 28 28 28 28 28 28 28 28 28 28 28 28 28 28 "
     ]
    },
    {
     "ename": "IndexError",
     "evalue": "index 0 is out of bounds for axis 0 with size 0",
     "output_type": "error",
     "traceback": [
      "\u001b[1;31m---------------------------------------------------------------------------\u001b[0m",
      "\u001b[1;31mIndexError\u001b[0m                                Traceback (most recent call last)",
      "\u001b[1;32m<ipython-input-36-110b98c59ba8>\u001b[0m in \u001b[0;36m<module>\u001b[1;34m\u001b[0m\n\u001b[0;32m      2\u001b[0m \u001b[1;32mfor\u001b[0m \u001b[0m_\u001b[0m \u001b[1;32min\u001b[0m \u001b[0mrange\u001b[0m\u001b[1;33m(\u001b[0m\u001b[1;36m100\u001b[0m\u001b[1;33m)\u001b[0m\u001b[1;33m:\u001b[0m\u001b[1;33m\u001b[0m\u001b[1;33m\u001b[0m\u001b[0m\n\u001b[0;32m      3\u001b[0m     \u001b[0mpopulation3\u001b[0m \u001b[1;33m=\u001b[0m \u001b[0mgeneration\u001b[0m\u001b[1;33m(\u001b[0m\u001b[0mpopulation3\u001b[0m\u001b[1;33m,\u001b[0m \u001b[0mpopulation_size\u001b[0m\u001b[1;33m)\u001b[0m\u001b[1;33m\u001b[0m\u001b[1;33m\u001b[0m\u001b[0m\n\u001b[1;32m----> 4\u001b[1;33m     \u001b[0mquan\u001b[0m \u001b[1;33m=\u001b[0m \u001b[0mquantity\u001b[0m\u001b[1;33m(\u001b[0m\u001b[0mpopulation3\u001b[0m\u001b[1;33m[\u001b[0m\u001b[1;36m0\u001b[0m\u001b[1;33m]\u001b[0m\u001b[1;33m)\u001b[0m \u001b[1;31m# Minimalna liczba używanych kontenerów\u001b[0m\u001b[1;33m\u001b[0m\u001b[1;33m\u001b[0m\u001b[0m\n\u001b[0m\u001b[0;32m      5\u001b[0m     \u001b[0mprint\u001b[0m\u001b[1;33m(\u001b[0m\u001b[0mquan\u001b[0m\u001b[1;33m,\u001b[0m \u001b[0mend\u001b[0m\u001b[1;33m=\u001b[0m\u001b[1;34m' '\u001b[0m\u001b[1;33m)\u001b[0m\u001b[1;33m\u001b[0m\u001b[1;33m\u001b[0m\u001b[0m\n",
      "\u001b[1;31mIndexError\u001b[0m: index 0 is out of bounds for axis 0 with size 0"
     ]
    }
   ],
   "source": [
    "population3 = population2\n",
    "for _ in range(100):\n",
    "    population3 = generation(population3, population_size)\n",
    "    quan = quantity(population3[0]) # Minimalna liczba używanych kontenerów   \n",
    "    print(quan, end=' ')"
   ]
  },
  {
   "cell_type": "markdown",
   "metadata": {},
   "source": [
    "### * Średnio (przy różnej liczbie populacji i pokoleń) uzyskuje się wartość około 30 pojemników.\n",
    "### * W tej chwili mój rekord to 25 kontenerów\n",
    "### * Jednak wykres pokazuje, że wciąż jest dużo wolnego miejsca."
   ]
  },
  {
   "cell_type": "code",
   "execution_count": 32,
   "metadata": {},
   "outputs": [
    {
     "name": "stdout",
     "output_type": "stream",
     "text": [
      "[ 0  0  1  0 22  0  3 15  0  7  0 16  5  3 15  5 14  1 16  0  1  6 11  1\n",
      "  1  3 11 24  1  2  7  6  6 15  2  6  7 10  5  7 18  0 18  7 42  3 30  1\n",
      "  4 16 10  3 34 11  4 30 11  8 10 12  4 35  2 13 12 10  5  5  8  7 17  4\n",
      "  3  2 13 17  6  3  1  2  0  4  2 12  9 19  0  8  7  2  0  9 11  0 15  0\n",
      " 21 14  9  6]\n"
     ]
    }
   ],
   "source": [
    "print(population2[0])"
   ]
  },
  {
   "cell_type": "markdown",
   "metadata": {},
   "source": [
    "Uczyńmy nazwy zmiennych w bardziej reprezentatywnej formie"
   ]
  },
  {
   "cell_type": "code",
   "execution_count": 33,
   "metadata": {},
   "outputs": [],
   "source": [
    "final_volume = [volume(population2[0]) for _ in volume(population2[0])]\n",
    "quant = quantity(population2[0]) # Minimalna liczba używanych kontenerów\n",
    "\n",
    "final_volume2 = [] \n",
    "for i in range(quant):\n",
    "    final_volume2.append(final_volume[0][0][i]) # Używana objętość każdego pojemnika    "
   ]
  },
  {
   "cell_type": "code",
   "execution_count": 34,
   "metadata": {},
   "outputs": [
    {
     "name": "stdout",
     "output_type": "stream",
     "text": [
      "\n",
      "Minimalna liczba używanych kontenerów:  27\n"
     ]
    }
   ],
   "source": [
    "print('\\nMinimalna liczba używanych kontenerów: ', quant)\n",
    "\n",
    "#print('\\nUżywana objętość każdego pojemnika, nie przekraczająca dopuszczalnej:')\n",
    "#final_volume2"
   ]
  },
  {
   "cell_type": "code",
   "execution_count": 35,
   "metadata": {},
   "outputs": [
    {
     "data": {
      "image/png": "[encoded data removed]",
      "text/plain": [
       "<Figure size 1080x216 with 1 Axes>"
      ]
     },
     "metadata": {
      "needs_background": "light"
     },
     "output_type": "display_data"
    }
   ],
   "source": [
    "plot.figure(figsize=(15, 3))\n",
    "x = np.arange(quant) # Liczba używanych kontenerów\n",
    "plot.bar(x+1, height = final_volume2)\n",
    "\n",
    "# rysowanie linii poziomej == maksymalna objetość każdego kontenera\n",
    "plot.axhline(y = v_max, color = 'r', linewidth=4, linestyle = '--', label='maksymalna objetość kontenera')  \n",
    "\n",
    "plot.xlabel('Liczba kontenerów', fontsize=15, color='green')\n",
    "plot.ylabel('Używana objętość', fontsize=15, color='green')\n",
    "\n",
    "#plt.grid()\n",
    "plot.legend(fontsize=12)\n",
    "plot.show()"
   ]
  },
  {
   "cell_type": "markdown",
   "metadata": {},
   "source": [
    "# Wniosek"
   ]
  },
  {
   "cell_type": "markdown",
   "metadata": {},
   "source": [
    "Korzystając z Algorytmu Genetycznego, staraliśmy znaleźć minimalną liczbę pojemników wymaganych do spakowania wszystkich przedmiotów (mniej niż $1/3$ ogólnej liczby). Istnieje jednak duże prawdopodobieństwo, że to rozwiązanie nie jest najbardziej optymalne (jak widać na wykresie, <i>nie wszystkie</i> słupki osiągają maksimum.). Ale w przypadku problemów ze złożonością kombinatoryczną NP, takie podejście jest całkiem uzasadnione."
   ]
  },
  {
   "cell_type": "markdown",
   "metadata": {},
   "source": [
    "# Źródła inspiracji:"
   ]
  },
  {
   "cell_type": "markdown",
   "metadata": {},
   "source": [
    "* <b>Materiał</b> z Wykładu cz. II i IV (Algorytmy ewolucyjne)\n",
    "* <b>Genetic Algorithms with Python</b> by Clinton Sheppard\n",
    "* <b>Hands-On Genetic Algorithms with Python</b> by Eyal Wirsansky"
   ]
  },
  {
   "cell_type": "code",
   "execution_count": null,
   "metadata": {},
   "outputs": [],
   "source": [
    "\n"
   ]
  }
 ],
 "metadata": {
  "kernelspec": {
   "display_name": "Python 3",
   "language": "python",
   "name": "python3"
  },
  "language_info": {
   "codemirror_mode": {
    "name": "ipython",
    "version": 3
   },
   "file_extension": ".py",
   "mimetype": "text/x-python",
   "name": "python",
   "nbconvert_exporter": "python",
   "pygments_lexer": "ipython3",
   "version": "3.7.7"
  }
 },
 "nbformat": 4,
 "nbformat_minor": 4
}
