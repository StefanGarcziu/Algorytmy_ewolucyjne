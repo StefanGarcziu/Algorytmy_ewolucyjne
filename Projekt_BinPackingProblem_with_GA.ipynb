{
 "cells": [
  {
   "cell_type": "markdown",
   "metadata": {},
   "source": [
    "# Problem z pakowaniem pojemników  z pomocą AG\n",
    "(Bin packing problem)"
   ]
  },
  {
   "cell_type": "markdown",
   "metadata": {},
   "source": [
    "<p align=\"center\">\n",
    "  <img width=\"660\" height=\"300\" src=\"https://scipbook.readthedocs.io/en/latest/_images/bpp-instance.png\">\n",
    "</p>"
   ]
  },
  {
   "cell_type": "markdown",
   "metadata": {},
   "source": [
    "W przypadku problemu pakowania w pojemniki przedmioty o różnej objętości muszą być pakowane w liczbę pojemników, z których każdy ma określoną objętość w sposób minimalizujący liczbę używanych pojemników. "
   ]
  },
  {
   "cell_type": "markdown",
   "metadata": {},
   "source": [
    "W teorii złożoności obliczeniowej jest to kombinatoryczny problem <b>NP</b> - trudny."
   ]
  },
  {
   "cell_type": "markdown",
   "metadata": {},
   "source": [
    "<p align=\"center\">\n",
    "  <img width=\"660\" height=\"300\" src=\"https://scipbook.readthedocs.io/en/latest/_images/bpp-solution.png\">\n",
    "</p>"
   ]
  },
  {
   "cell_type": "markdown",
   "metadata": {},
   "source": [
    "Spróbujmy rozwiązać ten problem za pomocą <b>Algorytmu Genetycznego</b>."
   ]
  },
  {
   "cell_type": "markdown",
   "metadata": {},
   "source": [
    "Jednak przed przystąpieniem do projektu postanowiłem uzupełnić braki wiedzy i kupiłem książkę: [\"Genetic Algorithms with Python\" by Clinton Sheppard](https://leanpub.com/genetic_algorithms_with_python)\n",
    "\n",
    "(Jeśli ktoś jest zainteresowany, mogę wysłać książkę jako osobistą wiadomość w formacie .pdf)"
   ]
  },
  {
   "cell_type": "markdown",
   "metadata": {},
   "source": [
    "# Sekwencja działań algorytmu"
   ]
  },
  {
   "cell_type": "markdown",
   "metadata": {},
   "source": [
    "Najczęściej działanie algorytmu przebiega następująco:"
   ]
  },
  {
   "cell_type": "markdown",
   "metadata": {},
   "source": [
    "* Losowana jest pewna populacja <i>początkowa</i>\n",
    "* Selekcja\n",
    "* Krzyżowanie\n",
    "* Mutacja\n",
    "* Rodzi się drugie (kolejne) pokolenie\n",
    "* Jeśli znajdziemy wystarczająco dobre rozwiązanie, wybieramy najlepszego osobnika z populacji - jego genotyp to uzyskany <b>wynik</b>."
   ]
  },
  {
   "cell_type": "code",
   "execution_count": 1,
   "metadata": {},
   "outputs": [],
   "source": [
    "from collections import Counter # rodzaj słownika, który pozwala policzyć liczbę niezmiennych obiektów\n",
    "\n",
    "import numpy as np\n",
    "import matplotlib.pyplot as plot"
   ]
  },
  {
   "cell_type": "markdown",
   "metadata": {},
   "source": [
    "# Populacja"
   ]
  },
  {
   "cell_type": "markdown",
   "metadata": {},
   "source": [
    "W dowolnym momencie algorytm genetyczny przechowuje populację osobników - zbiór potencjalnych rozwiązań danego problemu."
   ]
  },
  {
   "cell_type": "code",
   "execution_count": 2,
   "metadata": {},
   "outputs": [],
   "source": [
    "n = 100 # liczba przedmiotów, które chcemy zmieścić w kontenerach"
   ]
  },
  {
   "cell_type": "code",
   "execution_count": 3,
   "metadata": {},
   "outputs": [
    {
     "data": {
      "text/plain": [
       "array([0.795, 0.662, 0.667, 0.369, 0.638, 0.994, 0.456, 0.138, 0.117,\n",
       "       0.141, 0.267, 0.784, 0.405, 0.341, 0.051, 0.306, 0.689, 0.314,\n",
       "       0.899, 0.596, 0.485, 0.556, 0.517, 0.353, 0.566, 0.133, 0.866,\n",
       "       0.091, 0.892, 0.307, 0.807, 0.326, 0.142, 0.562, 0.426, 0.605,\n",
       "       0.49 , 0.185, 0.119, 0.02 , 0.258, 0.089, 0.934, 0.758, 0.624,\n",
       "       0.541, 0.642, 0.266, 0.632, 0.591, 0.989, 0.963, 0.8  , 0.173,\n",
       "       0.205, 0.38 , 0.554, 0.579, 0.824, 0.867, 0.563, 0.473, 0.465,\n",
       "       0.812, 0.393, 0.337, 0.956, 0.536, 0.681, 0.572, 0.376, 0.252,\n",
       "       0.102, 0.109, 0.023, 0.002, 0.842, 0.083, 0.273, 0.921, 0.374,\n",
       "       0.442, 0.939, 0.555, 0.442, 0.992, 0.634, 0.623, 0.735, 0.122,\n",
       "       0.407, 0.103, 0.923, 0.648, 0.169, 0.901, 0.136, 0.201, 0.772,\n",
       "       0.097])"
      ]
     },
     "execution_count": 3,
     "metadata": {},
     "output_type": "execute_result"
    }
   ],
   "source": [
    "v = np.random.random(size = n) # objetości tych przedmiotów\n",
    "np.round(v, 3)"
   ]
  },
  {
   "cell_type": "code",
   "execution_count": 4,
   "metadata": {},
   "outputs": [],
   "source": [
    "v_max = 3 # maksymalna objetość każdego kontenera"
   ]
  },
  {
   "cell_type": "markdown",
   "metadata": {},
   "source": [
    "Stąd mamy obiekty o pewnej objętości $v_i$, $i=1,...,n$ i dowolną liczbę kontenerów, każdy o pojemności <i>v_max</i>."
   ]
  },
  {
   "cell_type": "markdown",
   "metadata": {},
   "source": [
    "<i>Jaka jest najmniejsza liczba kontenerów potrzebna, by spakować wszystkie obiekty?</i>"
   ]
  },
  {
   "cell_type": "markdown",
   "metadata": {},
   "source": [
    "# Rozwiązania w populacji"
   ]
  },
  {
   "cell_type": "markdown",
   "metadata": {},
   "source": [
    "Reprezentacja załadowania $nr$_$kontenera()$ :\n",
    "* $[i_1,i_2,\\dots,i_n]$,  gdzie $i_k$ oznacza № kontenera, w którym jest obiekt $k$."
   ]
  },
  {
   "cell_type": "code",
   "execution_count": 5,
   "metadata": {},
   "outputs": [
    {
     "name": "stdout",
     "output_type": "stream",
     "text": [
      "[12 54 64 72 62 89 38 35  1 49 78 60 63 13 99 83 45 84 91 40  6 26 25 26\n",
      " 25 27 41 72 20 13 67  5  1 20 18 61 66 76 43 83  1  3 33 32 24  6  7 64\n",
      "  5 96 15  0 96 16 31 80 18 62 89 61 46 16 10 70 16 22 95 38 23 31 63 82\n",
      " 36 99 61 13 48 59  8 91 23 48  1 87 94 46 78 59 62 10 91 47 38 78 12 81\n",
      " 55 26 33 87]\n"
     ]
    }
   ],
   "source": [
    "def nr_kontenera(): # konfiguracja numerów kontenera\n",
    "    return np.random.randint(n, size=n) # wybrany losowo\n",
    "\n",
    "print(nr_kontenera())"
   ]
  },
  {
   "cell_type": "markdown",
   "metadata": {},
   "source": [
    "#  Populacja początkowa 100 osobników "
   ]
  },
  {
   "cell_type": "code",
   "execution_count": 6,
   "metadata": {},
   "outputs": [
    {
     "data": {
      "text/plain": [
       "array([[22, 52, 16, ..., 27, 19, 69],\n",
       "       [82, 70, 67, ..., 73, 67, 43],\n",
       "       [88,  0, 27, ..., 27,  5, 46],\n",
       "       ...,\n",
       "       [ 5, 75, 78, ..., 50, 10,  4],\n",
       "       [34, 42, 10, ..., 47, 40, 45],\n",
       "       [96, 25, 90, ...,  6, 97, 35]])"
      ]
     },
     "execution_count": 6,
     "metadata": {},
     "output_type": "execute_result"
    }
   ],
   "source": [
    "population_size = 100\n",
    "\n",
    "# każda osoba z populacji wybiera własną konfigurację numerów kontenerów \n",
    "population = np.array([nr_kontenera() for _ in range(population_size)])\n",
    "population "
   ]
  },
  {
   "cell_type": "code",
   "execution_count": 7,
   "metadata": {},
   "outputs": [
    {
     "data": {
      "text/plain": [
       "array([22, 52, 16,  2, 83, 56, 96, 50, 39, 56, 92, 18, 88, 66, 29, 73, 65,\n",
       "       34, 49, 96, 12, 73,  8, 95, 32, 60, 62, 25, 67, 34, 95, 25, 36,  4,\n",
       "       81, 79, 47, 75, 73, 27, 92, 66,  8, 48, 74, 61, 14, 87, 85, 95,  4,\n",
       "        8, 54, 79,  5, 97, 29, 13, 20, 38, 62, 39,  4, 97, 70, 46, 89, 91,\n",
       "       71, 31, 74, 53, 53, 42,  2, 26, 48, 90,  6, 95, 50, 78, 58, 82, 60,\n",
       "       54, 11,  7, 81, 73, 15, 86, 51,  1, 14, 31, 79, 27, 19, 69])"
      ]
     },
     "execution_count": 7,
     "metadata": {},
     "output_type": "execute_result"
    }
   ],
   "source": [
    "population[0]"
   ]
  },
  {
   "cell_type": "markdown",
   "metadata": {},
   "source": [
    "Liczymy liczbę użytych kontenerów za pomozą funkcji <b>quantity()</b>"
   ]
  },
  {
   "cell_type": "code",
   "execution_count": 8,
   "metadata": {},
   "outputs": [
    {
     "data": {
      "text/plain": [
       "67"
      ]
     },
     "execution_count": 8,
     "metadata": {},
     "output_type": "execute_result"
    }
   ],
   "source": [
    "def quantity(nr_kontenera):                \n",
    "    myDict = Counter(nr_kontenera) # Counter - rodzaj słownika, który pozwala policzyć liczbę niezmiennych obiektów\n",
    "    return len(myDict) # liczba unikalnych elementów == liczba użytych kontenerów !!!\n",
    "\n",
    "quantity(population[0]) # Pierwsza osoba z populacji wybrała X kontenery"
   ]
  },
  {
   "cell_type": "markdown",
   "metadata": {},
   "source": [
    "Funkcja <b>sumy</b> po numerach kontenerów, np. [1,2,0,4,5] -> 1+2+0+4+5 "
   ]
  },
  {
   "cell_type": "code",
   "execution_count": 9,
   "metadata": {},
   "outputs": [
    {
     "data": {
      "text/plain": [
       "5104"
      ]
     },
     "execution_count": 9,
     "metadata": {},
     "output_type": "execute_result"
    }
   ],
   "source": [
    "def suma(nr_kontenera):    \n",
    "    return sum(nr_kontenera)\n",
    "\n",
    "suma(population[0])"
   ]
  },
  {
   "cell_type": "markdown",
   "metadata": {},
   "source": [
    "Obliczamy zużytą objętość każdego pojemnika, która została wybrana przez każdą osobę z populacji za pomozą funkcji <b>volume()</b>"
   ]
  },
  {
   "cell_type": "code",
   "execution_count": 10,
   "metadata": {},
   "outputs": [],
   "source": [
    "def volume(nr_kontenera):  \n",
    "    ress_final = []    \n",
    "    ress = []\n",
    "    for j in range(n):\n",
    "        nr_kont = nr_kontenera[j]\n",
    "        summ = 0        \n",
    "        for u in range(n):\n",
    "            if nr_kont == nr_kontenera[u]: # jeśli przedmioty należą do jednego pojemnika, sumuje się ich objętość !!!\n",
    "                summ += v[u]             \n",
    "        ress.append(summ)\n",
    "    new_ress = list(set(ress))\n",
    "    ress_final.append(new_ress)\n",
    "    return ress_final"
   ]
  },
  {
   "cell_type": "markdown",
   "metadata": {},
   "source": [
    "Wykorzystana objętość pojemników przez pierwszą osobę:"
   ]
  },
  {
   "cell_type": "code",
   "execution_count": 11,
   "metadata": {},
   "outputs": [
    {
     "data": {
      "text/plain": [
       "[0.7951340642379875,\n",
       " 0.6624562777285264,\n",
       " 0.39110148910867326,\n",
       " 0.6381069654425561,\n",
       " 0.6668103035885655,\n",
       " 1.1358807583289492,\n",
       " 1.0525684757197324,\n",
       " 0.5122176636076132,\n",
       " 0.5905430194009774,\n",
       " 0.5247528243550083,\n",
       " 1.1033158917393666,\n",
       " 2.414620733465146,\n",
       " 0.27306284946294934,\n",
       " 0.7716377959116923,\n",
       " 0.40450792440585404,\n",
       " 0.48542754596458004,\n",
       " 0.5664180451287015,\n",
       " 0.5743286918339854,\n",
       " 0.20482513022161997,\n",
       " 0.8667238466250604,\n",
       " 0.4899724982162418,\n",
       " 0.5552237041670288,\n",
       " 0.18490948971449273,\n",
       " 0.10336930416566625,\n",
       " 1.1609038260356432,\n",
       " 1.7921329781910367,\n",
       " 1.4730585965897345,\n",
       " 0.8916051537182957,\n",
       " 0.22043057499438723,\n",
       " 0.6318741378230707,\n",
       " 0.9557665736129325,\n",
       " 0.6231464157783316,\n",
       " 0.6481002966278192,\n",
       " 0.8986398144417762,\n",
       " 0.41698092367288875,\n",
       " 0.14240466528717266,\n",
       " 0.43000825671104514,\n",
       " 0.26639388154436794,\n",
       " 0.7840009711197,\n",
       " 0.5790874812449553,\n",
       " 0.8235737901161118,\n",
       " 0.10855995903219107,\n",
       " 1.4294298716122755,\n",
       " 0.3933109549652648,\n",
       " 0.09663109775002632,\n",
       " 0.6890844895459367,\n",
       " 0.5408498673365199,\n",
       " 0.5355299023651334,\n",
       " 0.6811029722073141,\n",
       " 0.08321524492410792,\n",
       " 0.9228673068615436,\n",
       " 0.9128845058142255,\n",
       " 0.35407460832513793,\n",
       " 0.4421282428981653,\n",
       " 1.5994125333815599,\n",
       " 1.0002437198508694,\n",
       " 0.6048895778736473,\n",
       " 0.8105509791139586,\n",
       " 2.6722410169860136,\n",
       " 2.016244438110822,\n",
       " 0.002286259445470784,\n",
       " 0.6341028061460389,\n",
       " 0.4074668954542805,\n",
       " 0.6205940526110412,\n",
       " 0.3366186095852439,\n",
       " 1.1922619174188485,\n",
       " 0.9391246454563936]"
      ]
     },
     "execution_count": 11,
     "metadata": {},
     "output_type": "execute_result"
    }
   ],
   "source": [
    "alll = volume(population[0])\n",
    "NEW_alll = alll[0]\n",
    "NEW_alll # liczba elementów NEW_alll == liczba użytych kontenerów !!!"
   ]
  },
  {
   "cell_type": "markdown",
   "metadata": {},
   "source": [
    "Do tablicy <b>numerów</b> dodajemy <b>sumę</b> użytych kontenerów :"
   ]
  },
  {
   "cell_type": "code",
   "execution_count": 12,
   "metadata": {},
   "outputs": [],
   "source": [
    "nr_count = [[nr_kontenera, suma(nr_kontenera)] for nr_kontenera in population]\n",
    "#nr_count"
   ]
  },
  {
   "cell_type": "code",
   "execution_count": 13,
   "metadata": {},
   "outputs": [
    {
     "data": {
      "text/plain": [
       "[array([22, 52, 16,  2, 83, 56, 96, 50, 39, 56, 92, 18, 88, 66, 29, 73, 65,\n",
       "        34, 49, 96, 12, 73,  8, 95, 32, 60, 62, 25, 67, 34, 95, 25, 36,  4,\n",
       "        81, 79, 47, 75, 73, 27, 92, 66,  8, 48, 74, 61, 14, 87, 85, 95,  4,\n",
       "         8, 54, 79,  5, 97, 29, 13, 20, 38, 62, 39,  4, 97, 70, 46, 89, 91,\n",
       "        71, 31, 74, 53, 53, 42,  2, 26, 48, 90,  6, 95, 50, 78, 58, 82, 60,\n",
       "        54, 11,  7, 81, 73, 15, 86, 51,  1, 14, 31, 79, 27, 19, 69]),\n",
       " 5104]"
      ]
     },
     "execution_count": 13,
     "metadata": {},
     "output_type": "execute_result"
    }
   ],
   "source": [
    "nr_count[0]"
   ]
  },
  {
   "cell_type": "markdown",
   "metadata": {},
   "source": [
    "Sortowanie według liczby zużytych pojemników (rosnąco):"
   ]
  },
  {
   "cell_type": "code",
   "execution_count": 14,
   "metadata": {
    "scrolled": false
   },
   "outputs": [
    {
     "data": {
      "text/plain": [
       "[array([ 5, 75, 78, 62, 21, 15, 88,  0, 21, 53,  6,  4, 63, 13, 62, 30,  8,\n",
       "        30, 69,  2, 10, 83, 41, 72, 31, 22,  2, 69, 89, 21, 72, 44, 83, 15,\n",
       "        59, 10,  9, 49, 45, 67, 67,  4, 39, 80, 30, 27, 96, 74, 39,  8, 23,\n",
       "        41, 53,  5, 12, 63, 61, 94, 44, 88, 46, 67, 63,  9, 30, 21, 50, 29,\n",
       "        21, 28, 33,  2, 81, 43,  4, 24, 12, 11, 18, 81, 82, 65, 89,  9,  5,\n",
       "        98, 86, 73, 40, 39, 19, 18, 70,  7, 24, 41, 95, 50, 10,  4]),\n",
       " 4143]"
      ]
     },
     "execution_count": 14,
     "metadata": {},
     "output_type": "execute_result"
    }
   ],
   "source": [
    "sort = sorted(nr_count, key=lambda x: x[1]) \n",
    "sort[0]\n",
    "\n",
    "#można uruchomić i zobaczyć, jaki jest wynik"
   ]
  },
  {
   "cell_type": "markdown",
   "metadata": {},
   "source": [
    "# Selekcja"
   ]
  },
  {
   "cell_type": "markdown",
   "metadata": {},
   "source": [
    "Po obliczeniu sprawności wszystkich osobników w populacji rozpoczyna się proces <b>selekcji</b>, który określa, które osobniki zostaną pozostawione do <b>reprodukcji</b>, czyli stworzenie potomstwa, które będzie stanowić następne pokolenie."
   ]
  },
  {
   "cell_type": "code",
   "execution_count": 15,
   "metadata": {},
   "outputs": [],
   "source": [
    "def selection(popu, n_best):    \n",
    "      \n",
    "    sel_summ = [[]]    \n",
    "    t = 0        \n",
    "    \n",
    "    com = [[nr_kontenera, suma(nr_kontenera)] for nr_kontenera in popu]\n",
    "    popu_c = sorted(com, key=lambda x: x[1])\n",
    "    sort_summ = [x[0] for x in popu_c]   \n",
    "    \n",
    "    for j in range(len(sort_summ)):\n",
    "        # Pozostawiamy tylko te kombinacje, które spełniają warunek:\n",
    "        # Objętość pojemników nie przekracza dopuszczalnej wartości\n",
    "        wynik = all(item <= v_max for item in volume(sort_summ[j])[0])\n",
    "        if wynik == True:          \n",
    "            sel_summ = np.append(sel_summ, sort_summ[j])              \n",
    "            t += 1\n",
    "            if t == n_best:\n",
    "                break\n",
    "\n",
    "    sel_summ=np.reshape(sel_summ,[t,n])\n",
    "        \n",
    "    return sel_summ "
   ]
  },
  {
   "cell_type": "markdown",
   "metadata": {},
   "source": [
    "Testowanie funkcji <b>selection()</b>. Sprawdzenie, że funkcja działa poprawnie:"
   ]
  },
  {
   "cell_type": "code",
   "execution_count": 16,
   "metadata": {},
   "outputs": [
    {
     "name": "stdout",
     "output_type": "stream",
     "text": [
      "[[ 5. 75. 78. 62. 21. 15. 88.  0. 21. 53.  6.  4. 63. 13. 62. 30.  8. 30.\n",
      "  69.  2. 10. 83. 41. 72. 31. 22.  2. 69. 89. 21. 72. 44. 83. 15. 59. 10.\n",
      "   9. 49. 45. 67. 67.  4. 39. 80. 30. 27. 96. 74. 39.  8. 23. 41. 53.  5.\n",
      "  12. 63. 61. 94. 44. 88. 46. 67. 63.  9. 30. 21. 50. 29. 21. 28. 33.  2.\n",
      "  81. 43.  4. 24. 12. 11. 18. 81. 82. 65. 89.  9.  5. 98. 86. 73. 40. 39.\n",
      "  19. 18. 70.  7. 24. 41. 95. 50. 10.  4.]\n",
      " [66. 42. 54. 44.  5. 21.  1. 73. 16. 81. 75. 58.  1. 65. 71. 25. 67. 62.\n",
      "  49. 12. 11. 31. 87.  0. 33. 75. 64. 53. 76.  5. 70. 28. 22. 19. 91. 10.\n",
      "  15.  8. 26. 65. 39. 24. 54. 51. 22. 19. 19. 99. 61. 60. 26. 13. 17. 42.\n",
      "  54. 40. 77.  3. 38. 41. 45. 44. 66. 88. 27. 25.  0. 50. 70. 31. 35. 11.\n",
      "  55. 31. 15. 36. 64. 35. 64. 31. 52. 96. 79. 19. 44. 56. 64. 67. 53.  6.\n",
      "  14. 91. 68. 68. 69. 10. 24. 31. 52. 25.]\n",
      " [37.  9. 73.  9. 70. 90. 41. 23. 41. 75. 66. 40. 14. 86. 86.  4. 20. 33.\n",
      "  75. 32. 48. 45. 81. 54. 98. 38. 20. 14. 60. 36. 30.  7. 58.  2. 39. 79.\n",
      "  61. 90.  5. 30.  8. 30. 77. 38. 69. 87. 78. 68. 71. 63. 13. 50.  8. 18.\n",
      "  27. 39. 89. 12. 15. 24. 54. 12. 10. 43. 95. 19. 35. 47. 30. 19. 25. 69.\n",
      "  53. 59. 25. 38. 47. 79. 43. 74. 60. 41. 61. 64. 72. 50. 68. 17.  4. 95.\n",
      "  23. 59. 47. 16. 43.  9. 37.  5. 96.  8.]]\n"
     ]
    }
   ],
   "source": [
    "# test\n",
    "population2=selection(population, 3) # wybranie 3 najlepszych\n",
    "print(population2)"
   ]
  },
  {
   "cell_type": "markdown",
   "metadata": {},
   "source": [
    "# Mutacja"
   ]
  },
  {
   "cell_type": "markdown",
   "metadata": {},
   "source": [
    "Celem operatora mutacji jest okresowa, losowa aktualizacja populacji, to znaczy wprowadzenie nowych kombinacji genów do chromosomów, stymulując tym samym poszukiwania w niezbadanych obszarach przestrzeni rozwiązań."
   ]
  },
  {
   "cell_type": "code",
   "execution_count": 17,
   "metadata": {},
   "outputs": [],
   "source": [
    "def mutation(nr_kontenera, probability): # nr_kontenera - osobnik, p - prawdopodobieństwo zajścia mutacji \n",
    "    if np.random.random() < probability:\n",
    "        ind1=np.random.randint(n) \n",
    "        ind2=np.random.randint(n) \n",
    "        nr_kontenera[ind1]=nr_kontenera[ind2] \n",
    "        \n",
    "    return nr_kontenera"
   ]
  },
  {
   "cell_type": "code",
   "execution_count": 18,
   "metadata": {},
   "outputs": [
    {
     "name": "stdout",
     "output_type": "stream",
     "text": [
      "[ 5. 75. 78. 62. 21. 15. 88.  0. 21. 53.  6.  4. 63. 13. 62. 30.  8. 30.\n",
      " 69.  2. 10. 83. 41. 72. 31. 22.  2. 69. 89. 21. 72. 44. 83. 15. 59. 10.\n",
      "  9. 49. 45. 67. 67.  4. 39. 80. 30. 27. 96. 74. 39.  8. 23. 41. 53.  5.\n",
      " 12. 63. 61. 94. 44. 88. 46. 67. 63.  9. 30. 21. 50. 29. 21. 28. 33.  2.\n",
      " 81. 43.  4. 24. 12. 11. 18. 81. 82. 65. 89.  9.  5. 98. 86. 73. 40. 39.\n",
      " 19. 18. 70.  7. 24. 41. 95. 50. 10.  4.]\n"
     ]
    }
   ],
   "source": [
    "print(population2[0])"
   ]
  },
  {
   "cell_type": "markdown",
   "metadata": {},
   "source": [
    "Wynik uzyskany po <i>mutacji</i> losowej :"
   ]
  },
  {
   "cell_type": "code",
   "execution_count": 19,
   "metadata": {},
   "outputs": [
    {
     "name": "stdout",
     "output_type": "stream",
     "text": [
      "[ 5. 75. 78. 62. 21. 15. 88.  0. 21. 53.  6.  4. 63. 13. 62. 30.  8. 30.\n",
      " 69.  2. 10. 83. 41. 72. 31. 22.  2. 69. 89. 21. 72. 44. 83. 15. 59. 10.\n",
      "  9. 49. 45. 67. 67.  4. 39. 80. 30. 27. 96. 74. 39.  8. 23. 41. 53.  5.\n",
      " 12. 63. 61. 94. 44. 88. 46. 67. 63.  9. 30. 21. 50. 29. 21. 28. 33.  2.\n",
      " 81. 43.  4. 24. 12. 11. 18. 81. 82. 65. 89.  9.  5.  6. 86. 73. 40. 39.\n",
      " 19. 18. 70.  7. 24. 41. 95. 50. 10.  4.]\n"
     ]
    }
   ],
   "source": [
    "print(mutation(population2[0], 0.8)) # prawdopodobieństwo mutacji = 0.8"
   ]
  },
  {
   "cell_type": "markdown",
   "metadata": {},
   "source": [
    "# Krzyżowanie"
   ]
  },
  {
   "cell_type": "markdown",
   "metadata": {},
   "source": [
    "Aby stworzyć parę nowych osobników, zazwyczaj wybiera się rodziców z obecnego pokolenia, a części ich chromosomów są zamieniane (krzyżowane), w wyniku czego powstają dwa nowe chromosomy reprezentujące potomstwo."
   ]
  },
  {
   "cell_type": "code",
   "execution_count": 20,
   "metadata": {},
   "outputs": [],
   "source": [
    "def crossover(father, mother): # dwoje rodziców\n",
    "    cut=np.random.randint(n) # losowe miejsce przecięcia chromosomu \n",
    "    chm=np.delete(mother, np.arange(0,cut, 1))\n",
    "    chp=np.delete(father, np.arange(cut, n, 1))    \n",
    "    child=np.concatenate((chp,chm),axis=0) # dziecko\n",
    "    mutation(child, 0.8) # losowa mutacja\n",
    "    \n",
    "    return child # dziecko (potomstwo)"
   ]
  },
  {
   "cell_type": "markdown",
   "metadata": {},
   "source": [
    "## Czas stworzyć dynastię"
   ]
  },
  {
   "cell_type": "code",
   "execution_count": 21,
   "metadata": {},
   "outputs": [],
   "source": [
    "n_children = 3*population_size # liczebność dzieci"
   ]
  },
  {
   "cell_type": "code",
   "execution_count": 22,
   "metadata": {},
   "outputs": [],
   "source": [
    "def generation(population_def, population_size_def):      \n",
    "    children=np.array([crossover(population_def[np.random.randint(len(population_def))],\\\n",
    "                             population_def[np.random.randint(len(population_def))]) for _ in range(n_children)])\n",
    "                               \n",
    "    family = np.concatenate((population_def, children), axis = 0) # dodanie dzieci do populacji rodziców        \n",
    "    population = selection(family, population_size_def)\n",
    "\n",
    "    return population"
   ]
  },
  {
   "cell_type": "markdown",
   "metadata": {},
   "source": [
    "Narodziny kolejnych 200 pokoleń, których rozwiązania są unikalne.\n",
    "Wybieramy tylko to, co najlepsze w każdym pokoleniu."
   ]
  },
  {
   "cell_type": "code",
   "execution_count": 23,
   "metadata": {},
   "outputs": [
    {
     "name": "stdout",
     "output_type": "stream",
     "text": [
      "58 58 64 63 60 58 58 57 57 56 61 52 55 56 52 57 45 45 49 46 45 44 43 45 41 42 39 41 40 39 39 39 35 34 33 34 32 31 33 34 32 29 29 30 30 30 30 30 27 28 30 28 28 28 28 28 28 28 27 27 27 27 26 25 25 25 25 25 25 25 25 25 24 24 24 25 25 25 24 24 23 23 23 23 23 24 24 23 22 24 24 22 22 22 22 22 22 22 22 22 22 22 22 22 21 21 21 20 20 21 21 21 20 21 21 21 20 20 20 20 20 20 20 20 20 20 20 20 20 20 19 19 19 19 19 19 19 19 19 19 19 18 18 18 18 18 18 18 18 18 18 18 18 18 18 18 17 17 17 17 17 17 17 17 17 17 17 17 17 17 17 17 17 17 17 17 17 17 17 17 17 17 17 17 17 17 17 17 17 17 17 17 17 17 17 17 17 17 17 17 "
     ]
    }
   ],
   "source": [
    "for _ in range(200):\n",
    "    population = generation(population, population_size)    \n",
    "    quan = quantity(population[0]) # Minimalna liczba używanych kontenerów   \n",
    "    \n",
    "    print(quan, end=' ')"
   ]
  },
  {
   "cell_type": "markdown",
   "metadata": {},
   "source": [
    "### Uczyńmy nazwy zmiennych w bardziej reprezentatywnej formie"
   ]
  },
  {
   "cell_type": "code",
   "execution_count": 24,
   "metadata": {},
   "outputs": [],
   "source": [
    "final_volume = [volume(population[0]) for _ in volume(population[0])]\n",
    "quant = quantity(population[0]) # Minimalna liczba używanych kontenerów\n",
    "\n",
    "final_volume2 = [] \n",
    "for i in range(quant):\n",
    "    final_volume2.append(final_volume[0][0][i]) # Używana objętość każdego pojemnika    "
   ]
  },
  {
   "cell_type": "code",
   "execution_count": 25,
   "metadata": {},
   "outputs": [
    {
     "name": "stdout",
     "output_type": "stream",
     "text": [
      "\n",
      "Minimalna liczba używanych kontenerów:  17\n"
     ]
    }
   ],
   "source": [
    "print('\\nMinimalna liczba używanych kontenerów: ', quant)"
   ]
  },
  {
   "cell_type": "code",
   "execution_count": 26,
   "metadata": {},
   "outputs": [
    {
     "data": {
      "image/png": "[encoded data removed]",
      "text/plain": [
       "<Figure size 1080x216 with 1 Axes>"
      ]
     },
     "metadata": {
      "needs_background": "light"
     },
     "output_type": "display_data"
    }
   ],
   "source": [
    "plot.figure(figsize=(15, 3))\n",
    "x = np.arange(quant) # Liczba używanych kontenerów\n",
    "plot.bar(x+1, height = final_volume2)\n",
    "\n",
    "# rysowanie linii poziomej == maksymalna objetość każdego kontenera\n",
    "plot.axhline(y = v_max, color = 'r', linewidth=4, linestyle = '--', label='maksymalna objetość kontenera')  \n",
    "\n",
    "plot.xlabel('Liczba kontenerów', fontsize=15, color='green')\n",
    "plot.ylabel('Używana objętość', fontsize=15, color='green')\n",
    "\n",
    "#plt.grid()\n",
    "plot.legend(fontsize=12)\n",
    "plot.show()"
   ]
  },
  {
   "cell_type": "markdown",
   "metadata": {},
   "source": [
    "# Wniosek"
   ]
  },
  {
   "cell_type": "markdown",
   "metadata": {},
   "source": [
    "Korzystając z Algorytmu Genetycznego, staraliśmy znaleźć minimalną liczbę pojemników wymaganych do spakowania wszystkich przedmiotów. Istnieje jednak duże prawdopodobieństwo, że to rozwiązanie nie jest najbardziej optymalne (jak widać na wykresie, <i>nie wszystkie</i> słupki osiągają maksimum.). Ale w przypadku problemów ze złożonością kombinatoryczną NP, takie podejście jest całkiem uzasadnione."
   ]
  },
  {
   "cell_type": "markdown",
   "metadata": {},
   "source": [
    "# Źródła inspiracji:"
   ]
  },
  {
   "cell_type": "markdown",
   "metadata": {},
   "source": [
    "* <b>Materiał</b> z Wykładu cz. II i IV (Algorytmy ewolucyjne)\n",
    "* <b>Genetic Algorithms with Python</b> by Clinton Sheppard\n",
    "* <b>Hands-On Genetic Algorithms with Python</b> by Eyal Wirsansky"
   ]
  },
  {
   "cell_type": "code",
   "execution_count": null,
   "metadata": {},
   "outputs": [],
   "source": [
    "\n"
   ]
  }
 ],
 "metadata": {
  "kernelspec": {
   "display_name": "Python 3",
   "language": "python",
   "name": "python3"
  },
  "language_info": {
   "codemirror_mode": {
    "name": "ipython",
    "version": 3
   },
   "file_extension": ".py",
   "mimetype": "text/x-python",
   "name": "python",
   "nbconvert_exporter": "python",
   "pygments_lexer": "ipython3",
   "version": "3.7.7"
  }
 },
 "nbformat": 4,
 "nbformat_minor": 4
}
