{
 "cells": [
  {
   "cell_type": "markdown",
   "metadata": {},
   "source": [
    "# Problem z pakowaniem pojemników  z pomocą AG\n",
    "(Bin packing problem)"
   ]
  },
  {
   "cell_type": "markdown",
   "metadata": {},
   "source": [
    "<p align=\"center\">\n",
    "  <img width=\"660\" height=\"300\" src=\"https://scipbook.readthedocs.io/en/latest/_images/bpp-instance.png\">\n",
    "</p>"
   ]
  },
  {
   "cell_type": "markdown",
   "metadata": {},
   "source": [
    "W przypadku problemu pakowania w pojemniki przedmioty o różnej objętości muszą być pakowane w liczbę pojemników, z których każdy ma określoną objętość w sposób minimalizujący liczbę używanych pojemników. "
   ]
  },
  {
   "cell_type": "markdown",
   "metadata": {},
   "source": [
    "W teorii złożoności obliczeniowej jest to kombinatoryczny problem <b>NP</b> - trudny."
   ]
  },
  {
   "cell_type": "markdown",
   "metadata": {},
   "source": [
    "<p align=\"center\">\n",
    "  <img width=\"660\" height=\"300\" src=\"https://scipbook.readthedocs.io/en/latest/_images/bpp-solution.png\">\n",
    "</p>"
   ]
  },
  {
   "cell_type": "markdown",
   "metadata": {},
   "source": [
    "Spróbujmy rozwiązać ten problem za pomocą <b>Algorytmu Genetycznego</b>."
   ]
  },
  {
   "cell_type": "markdown",
   "metadata": {},
   "source": [
    "Jednak przed przystąpieniem do projektu postanowiłem uzupełnić braki wiedzy i kupiłem książkę: [\"Genetic Algorithms with Python\" by Clinton Sheppard](https://leanpub.com/genetic_algorithms_with_python)\n",
    "\n",
    "(Jeśli ktoś jest zainteresowany, mogę wysłać książkę jako osobistą wiadomość w formacie .pdf)"
   ]
  },
  {
   "cell_type": "markdown",
   "metadata": {},
   "source": [
    "# Sekwencja działań algorytmu"
   ]
  },
  {
   "cell_type": "markdown",
   "metadata": {},
   "source": [
    "Najczęściej działanie algorytmu przebiega następująco:"
   ]
  },
  {
   "cell_type": "markdown",
   "metadata": {},
   "source": [
    "* Losowana jest pewna populacja <i>początkowa</i>\n",
    "* Selekcja\n",
    "* Krzyżowanie\n",
    "* Mutacja\n",
    "* Rodzi się drugie (kolejne) pokolenie\n",
    "* Jeśli znajdziemy wystarczająco dobre rozwiązanie, wybieramy najlepszego osobnika z populacji - jego genotyp to uzyskany <b>wynik</b>."
   ]
  },
  {
   "cell_type": "code",
   "execution_count": 1,
   "metadata": {},
   "outputs": [],
   "source": [
    "from collections import Counter # rodzaj słownika, który pozwala policzyć liczbę niezmiennych obiektów\n",
    "\n",
    "import numpy as np\n",
    "import matplotlib.pyplot as plot"
   ]
  },
  {
   "cell_type": "markdown",
   "metadata": {},
   "source": [
    "# Populacja"
   ]
  },
  {
   "cell_type": "markdown",
   "metadata": {},
   "source": [
    "W dowolnym momencie algorytm genetyczny przechowuje populację osobników - zbiór potencjalnych rozwiązań danego problemu."
   ]
  },
  {
   "cell_type": "code",
   "execution_count": 2,
   "metadata": {},
   "outputs": [],
   "source": [
    "n = 100 # liczba przedmiotów, które chcemy zmieścić w kontenerach"
   ]
  },
  {
   "cell_type": "code",
   "execution_count": 3,
   "metadata": {},
   "outputs": [
    {
     "data": {
      "text/plain": [
       "array([0.857, 0.716, 0.486, 0.826, 0.207, 0.88 , 0.151, 0.954, 0.782,\n",
       "       0.553, 0.288, 0.192, 0.919, 0.373, 0.341, 0.245, 0.729, 0.68 ,\n",
       "       0.468, 0.92 , 0.041, 0.861, 0.238, 0.099, 0.34 , 0.087, 0.854,\n",
       "       0.648, 0.898, 0.036, 0.123, 0.841, 0.861, 0.063, 0.178, 0.577,\n",
       "       0.307, 0.267, 0.395, 0.595, 0.054, 0.788, 0.895, 0.643, 0.151,\n",
       "       0.508, 0.662, 0.852, 0.49 , 0.646, 0.821, 0.912, 0.999, 0.853,\n",
       "       0.628, 0.454, 0.26 , 0.349, 0.348, 0.231, 0.998, 0.506, 0.894,\n",
       "       0.67 , 0.88 , 0.034, 0.19 , 0.109, 0.145, 0.627, 0.877, 0.176,\n",
       "       0.345, 0.414, 0.407, 0.601, 0.111, 0.648, 0.405, 0.167, 0.956,\n",
       "       0.43 , 0.629, 0.169, 0.832, 0.071, 0.99 , 0.75 , 0.462, 0.949,\n",
       "       0.737, 0.007, 0.08 , 0.81 , 0.296, 0.291, 0.431, 0.487, 0.133,\n",
       "       0.993])"
      ]
     },
     "execution_count": 3,
     "metadata": {},
     "output_type": "execute_result"
    }
   ],
   "source": [
    "v = np.random.random(size = n) # objetości tych przedmiotów\n",
    "np.round(v, 3)"
   ]
  },
  {
   "cell_type": "code",
   "execution_count": 4,
   "metadata": {},
   "outputs": [],
   "source": [
    "v_max = 3 # maksymalna objetość każdego kontenera"
   ]
  },
  {
   "cell_type": "markdown",
   "metadata": {},
   "source": [
    "Stąd mamy obiekty o pewnej objętości $v_i$, $i=1,...,n$ i dowolną liczbę kontenerów, każdy o pojemności <i>v_max</i>."
   ]
  },
  {
   "cell_type": "markdown",
   "metadata": {},
   "source": [
    "<i>Jaka jest najmniejsza liczba kontenerów potrzebna, by spakować wszystkie obiekty?</i>"
   ]
  },
  {
   "cell_type": "markdown",
   "metadata": {},
   "source": [
    "# Rozwiązania w populacji"
   ]
  },
  {
   "cell_type": "markdown",
   "metadata": {},
   "source": [
    "Reprezentacja załadowania $nr$_$kontenera()$ :\n",
    "* $[i_1,i_2,\\dots,i_n]$,  gdzie $i_k$ oznacza № kontenera, w którym jest obiekt $k$."
   ]
  },
  {
   "cell_type": "code",
   "execution_count": 5,
   "metadata": {},
   "outputs": [
    {
     "name": "stdout",
     "output_type": "stream",
     "text": [
      "[ 9  5  0  3 23 18  9 16  0 31 28 16 16 29 14 27  4  1 11  8 27  5 25 20\n",
      " 22  3 18  9 26 21  5 30 13 21  6  4 22 14 16 11  9 18  1  6  6 26 20 27\n",
      " 12  9 23 19 15 13 13 32  1 20 14 13 32 18  0 24 15  3  4  8 13 13 10 10\n",
      " 26 18  6 32 24 23 15  3  9 18 32  5 30 17 21  5 25 17 22  3 22 20 11  6\n",
      " 12  7 30 30]\n"
     ]
    }
   ],
   "source": [
    "def nr_kontenera(): # konfiguracja numerów kontenera\n",
    "    return np.random.randint(n/3, size=n) # wybrany losowo\n",
    "\n",
    "print(nr_kontenera())"
   ]
  },
  {
   "cell_type": "markdown",
   "metadata": {},
   "source": [
    "# W rozwiązaniu tego problemu pomoże nam ludność całego miasta"
   ]
  },
  {
   "cell_type": "code",
   "execution_count": 6,
   "metadata": {},
   "outputs": [
    {
     "name": "stdout",
     "output_type": "stream",
     "text": [
      "[[14 18 26 ... 29 17 17]\n",
      " [31 30 30 ...  5  1 18]\n",
      " [ 0 17  8 ... 22  6 22]\n",
      " ...\n",
      " [ 5 27 22 ... 10  7  1]\n",
      " [ 4 16  4 ... 31  3 15]\n",
      " [19 20 17 ... 24 22 30]]\n"
     ]
    }
   ],
   "source": [
    "population_size = 100000 # populacja początkowa 100000 osobników \n",
    "\n",
    "# każda osoba z populacji wybiera własną konfigurację numerów kontenerów \n",
    "population = np.array([nr_kontenera() for _ in range(population_size)])\n",
    "print(population) "
   ]
  },
  {
   "cell_type": "markdown",
   "metadata": {},
   "source": [
    "Liczymy liczbę użytych kontenerów za pomozą funkcji <b>quantity()</b>"
   ]
  },
  {
   "cell_type": "code",
   "execution_count": 7,
   "metadata": {},
   "outputs": [
    {
     "data": {
      "text/plain": [
       "33"
      ]
     },
     "execution_count": 7,
     "metadata": {},
     "output_type": "execute_result"
    }
   ],
   "source": [
    "def quantity(nr_kontenera):                \n",
    "    myDict = Counter(nr_kontenera) # Counter - rodzaj słownika, który pozwala policzyć liczbę niezmiennych obiektów\n",
    "    return len(myDict) # liczba unikalnych elementów == liczba użytych kontenerów !!!\n",
    "\n",
    "quantity(population[0]) # Pierwsza osoba z populacji wybrała X kontenery"
   ]
  },
  {
   "cell_type": "markdown",
   "metadata": {},
   "source": [
    "Obliczamy zużytą objętość każdego pojemnika, która została wybrana przez każdą osobę z populacji za pomozą funkcji <b>volume()</b>"
   ]
  },
  {
   "cell_type": "code",
   "execution_count": 8,
   "metadata": {},
   "outputs": [],
   "source": [
    "def volume(nr_kontenera):  \n",
    "    ress_final = []    \n",
    "    ress = []\n",
    "    for j in range(n):\n",
    "        nr_kont = nr_kontenera[j]\n",
    "        summ = 0        \n",
    "        for u in range(n):\n",
    "            if nr_kont == nr_kontenera[u]: # jeśli przedmioty należą do jednego pojemnika, sumuje się ich objętość !!!\n",
    "                summ += v[u]             \n",
    "        ress.append(summ)\n",
    "    new_ress = list(set(ress))\n",
    "    ress_final.append(new_ress)\n",
    "    return ress_final"
   ]
  },
  {
   "cell_type": "markdown",
   "metadata": {},
   "source": [
    "Wykorzystana objętość pojemników przez pierwszą osobę:"
   ]
  },
  {
   "cell_type": "code",
   "execution_count": 9,
   "metadata": {},
   "outputs": [
    {
     "data": {
      "text/plain": [
       "[0.7162042292523133,\n",
       " 0.48613044558412877,\n",
       " 0.6095238490288041,\n",
       " 3.405680271117709,\n",
       " 1.3039182975204107,\n",
       " 3.057864479930971,\n",
       " 0.6185776122655683,\n",
       " 0.9542457873230427,\n",
       " 3.6329589281737094,\n",
       " 2.202155683561486,\n",
       " 2.2942544837093797,\n",
       " 3.1882915243559715,\n",
       " 2.6143166619240965,\n",
       " 2.23882819107944,\n",
       " 0.8337101579996117,\n",
       " 1.1227294249895707,\n",
       " 1.0689167601816512,\n",
       " 0.9938311437803395,\n",
       " 1.5698083708210138,\n",
       " 0.8535803854479066,\n",
       " 2.872483836045844,\n",
       " 0.2557236602400874,\n",
       " 1.541774640370604,\n",
       " 1.9742567057436464,\n",
       " 1.4430413449621533,\n",
       " 1.573909153617133,\n",
       " 0.8260471973461897,\n",
       " 0.8099514610180499,\n",
       " 2.4947054184463755,\n",
       " 2.5864074850981438,\n",
       " 0.5180636046685299,\n",
       " 0.03644009505023671,\n",
       " 0.430309128817834]"
      ]
     },
     "execution_count": 9,
     "metadata": {},
     "output_type": "execute_result"
    }
   ],
   "source": [
    "alll = volume(population[0])\n",
    "NEW_alll = alll[0]\n",
    "NEW_alll # liczba elementów NEW_alll == liczba użytych kontenerów !!!"
   ]
  },
  {
   "cell_type": "markdown",
   "metadata": {},
   "source": [
    "Do tablicy <b>numerów</b> dodajemy <b>liczbę</b> użytych kontenerów :"
   ]
  },
  {
   "cell_type": "code",
   "execution_count": 46,
   "metadata": {},
   "outputs": [],
   "source": [
    "nr_count = [[nr_kontenera, quantity(nr_kontenera)] for nr_kontenera in population]\n",
    "# nr_count"
   ]
  },
  {
   "cell_type": "markdown",
   "metadata": {},
   "source": [
    "Sortowanie według liczby zużytych pojemników (rosnąco):"
   ]
  },
  {
   "cell_type": "code",
   "execution_count": 11,
   "metadata": {
    "scrolled": false
   },
   "outputs": [],
   "source": [
    "sort = sorted(nr_count, key=lambda x: x[1]) \n",
    "#sort\n",
    "\n",
    "#można uruchomić i zobaczyć, jaki jest wynik"
   ]
  },
  {
   "cell_type": "markdown",
   "metadata": {},
   "source": [
    "# Selekcja"
   ]
  },
  {
   "cell_type": "markdown",
   "metadata": {},
   "source": [
    "Po obliczeniu sprawności wszystkich osobników w populacji rozpoczyna się proces <b>selekcji</b>, który określa, które osobniki zostaną pozostawione do <b>reprodukcji</b>, czyli stworzenie potomstwa, które będzie stanowić następne pokolenie."
   ]
  },
  {
   "cell_type": "code",
   "execution_count": 39,
   "metadata": {},
   "outputs": [],
   "source": [
    "def selection(popu, n_best):\n",
    "    sel = []\n",
    "    k = 0\n",
    "    com = [[nr_kontenera, quantity(nr_kontenera)] for nr_kontenera in popu]\n",
    "    popu_c = sorted(nr_count, key=lambda x: x[1])\n",
    "    p_c = [x[0] for x in popu_c]\n",
    "    for i in range(len(population)):\n",
    "        wynik = all(item <= v_max for item in volume(p_c[i])[0])\n",
    "        if wynik == True:\n",
    "            k += 1\n",
    "            sel=np.append(sel,p_c[i])        \n",
    "        #print(wynik, p_c[i])\n",
    "        sel=np.reshape(sel,[k,n])\n",
    "        if k==n_best:\n",
    "            break\n",
    "    return sel.astype(np.int) "
   ]
  },
  {
   "cell_type": "code",
   "execution_count": 40,
   "metadata": {},
   "outputs": [
    {
     "name": "stdout",
     "output_type": "stream",
     "text": [
      "[[31 32 31 22 23 23 10 30 13  6 11 22  5 24 11  9  9 17  6 10 24 16 19 28\n",
      "  20  4  0 22  5 29 27 29 13  4 19 16 19 10 23 11 28 26 24  2 18 15  6 15\n",
      "  20 27  3  5 16 13  1 11 17 24 18 19  7  0 17 32  2  3  4 13 19  4  2 10\n",
      "  30  6  9 31 20  1 32  4 29  2 23 19 32 28  3 28 17 22 26 19 30 18 11 18\n",
      "   3  3 26  0]\n",
      " [23 27  1 30 23 21  0 18  7 15  7 11 32 10  1  2 22 24  0  7 31 31  4 28\n",
      "  27 11 16 29 15 22 30  3  3 24 17 27 25 19  3 17  7 22  9 23  6 17 26  6\n",
      "   1 10 16 26 29 18  4  4 30  6  0 24 19 28 24  5 31  2 28 26 22  1 17 22\n",
      "   5 31 18 30  3  2  6 19 28 17 16 16  7 17  2 27  5 26 31 17 10 11 30  9\n",
      "   4 32 22 23]\n",
      " [16  7 20 19 18  2  9  3 11 14  8 17 21 25  7 25 27 16 15 26  7  7 30 14\n",
      "   6  3  2 30 22 26 21  2 18  0 22 17 32 27 25  0  8 19  1 16 14 14  7  8\n",
      "  25 17 23  1 17 25 15 32  7 17 21  8 26  9 31 23 14  0 15  6  6 10 15 24\n",
      "  21 15 25 24  7 21 19 14 28 32  6 11  0 16 26 12 20 24  6 21  9 30  0 31\n",
      "  21 23 10 27]]\n"
     ]
    }
   ],
   "source": [
    "# test\n",
    "population2=selection(population,3) # wybranie 3 najlepszych\n",
    "print(population2)"
   ]
  },
  {
   "cell_type": "markdown",
   "metadata": {},
   "source": [
    "Następnie tworzymy tabelę składającą się z 3 elementów:\n",
    "* Numer kontenera \n",
    "* Liczba używanych kontenerów\n",
    "* Użyta objętość każdego pojemnika"
   ]
  },
  {
   "cell_type": "code",
   "execution_count": 31,
   "metadata": {},
   "outputs": [],
   "source": [
    "nr_quantity_volume = [[nr_kontenera, quantity(nr_kontenera), volume(nr_kontenera)] for nr_kontenera in population2]\n",
    "# nr_quantity_volume\n",
    "\n",
    "# można uruchomić i zobaczyć, jaki jest wynik"
   ]
  },
  {
   "cell_type": "markdown",
   "metadata": {},
   "source": [
    "# Mutacja"
   ]
  },
  {
   "cell_type": "markdown",
   "metadata": {},
   "source": [
    "Celem operatora mutacji jest okresowa, losowa aktualizacja populacji, to znaczy wprowadzenie nowych kombinacji genów do chromosomów, stymulując tym samym poszukiwania w niezbadanych obszarach przestrzeni rozwiązań."
   ]
  },
  {
   "cell_type": "code",
   "execution_count": 32,
   "metadata": {},
   "outputs": [],
   "source": [
    "def mutation(nr_kontenera, probability): # nr_kontenera - osobnik, p - prawdopodobieństwo zajścia mutacji \n",
    "    if np.random.random() < probability:\n",
    "        ind1=np.random.randint(n) \n",
    "        ind2=np.random.randint(n) \n",
    "#        print(ind)\n",
    "        nr_kontenera[ind1]=nr_kontenera[ind2] \n",
    "    return nr_kontenera"
   ]
  },
  {
   "cell_type": "code",
   "execution_count": 33,
   "metadata": {},
   "outputs": [
    {
     "name": "stdout",
     "output_type": "stream",
     "text": [
      "[31 32 31 22 23 23 10 30 13  6 11 22  5 24 11  9  9 17  6 10 24 16 19 28\n",
      " 20  4  0 22  5 29 27 29 13  4 19 16 19 10 23 11 28 26 24  2 18 15  6 15\n",
      " 20 27  3  5 16 13  1 11 17 24 18 19  7  0 17 32  2  3  4 13 19  4  2 10\n",
      " 30  6  9 31 20  1 32  4 29  2 23 19 32 28  3 28 17 22 26 19 30 18 11 18\n",
      "  3  3 26  0]\n"
     ]
    }
   ],
   "source": [
    "print(population2[0])"
   ]
  },
  {
   "cell_type": "markdown",
   "metadata": {},
   "source": [
    "Wynik uzyskany po <i>mutacji</i> losowej :"
   ]
  },
  {
   "cell_type": "code",
   "execution_count": 34,
   "metadata": {},
   "outputs": [
    {
     "name": "stdout",
     "output_type": "stream",
     "text": [
      "[31 32 31 22 23 23 10 30 13  6 11 22  5 24 11  9  9 17  6 10 24 16 19 28\n",
      " 20 19  0 22  5 29 27 29 13  4 19 16 19 10 23 11 28 26 24  2 18 15  6 15\n",
      " 20 27  3  5 16 13  1 11 17 24 18 19  7  0 17 32  2  3  4 13 19  4  2 10\n",
      " 30  6  9 31 20  1 32  4 29  2 23 19 32 28  3 28 17 22 26 19 30 18 11 18\n",
      "  3  3 26  0]\n"
     ]
    }
   ],
   "source": [
    "print(mutation(population2[0], 0.8)) # prawdopodobieństwo mutacji = 0.8"
   ]
  },
  {
   "cell_type": "markdown",
   "metadata": {},
   "source": [
    "# Krzyżowanie"
   ]
  },
  {
   "cell_type": "markdown",
   "metadata": {},
   "source": [
    "Aby stworzyć parę nowych osobników, zazwyczaj wybiera się rodziców z obecnego pokolenia, a części ich chromosomów są zamieniane (krzyżowane), w wyniku czego powstają dwa nowe chromosomy reprezentujące potomstwo."
   ]
  },
  {
   "cell_type": "code",
   "execution_count": 35,
   "metadata": {},
   "outputs": [],
   "source": [
    "def crossover(father, mother): # dwoje rodziców\n",
    "    cut=np.random.randint(1,n) # losowe miejsce przecięcia chromosomu \n",
    "    chp=np.delete(father, np.arange(cut, n, 1))\n",
    "    chm=np.delete(mother, np.arange(0,cut, 1))\n",
    "    child=np.concatenate((chp,chm),axis=0) # dziecko\n",
    "    mutation(child, 0.8) # losowa mutacja\n",
    "    return child # dziecko (potomstwo)"
   ]
  },
  {
   "cell_type": "markdown",
   "metadata": {},
   "source": [
    "## Czas stworzyć dynastię"
   ]
  },
  {
   "cell_type": "code",
   "execution_count": 36,
   "metadata": {},
   "outputs": [],
   "source": [
    "n_children = 3*population_size # liczebność dzieci"
   ]
  },
  {
   "cell_type": "code",
   "execution_count": 37,
   "metadata": {},
   "outputs": [],
   "source": [
    "def generation():      \n",
    "    children=np.array([crossover(population[np.random.randint(0,population_size)],\\\n",
    "                             population[np.random.randint(0,population_size)]) for _ in range(n_children)])\n",
    "                                  \n",
    "    family = np.concatenate((population,children)) # dodanie dzieci do populacji rodziców\n",
    "\n",
    "    return selection(family, population_size)"
   ]
  },
  {
   "cell_type": "markdown",
   "metadata": {},
   "source": [
    "Narodziny kolejnych X pokoleń, których rozwiązania są unikalne.\n",
    "Wybieramy tylko to, co najlepsze w każdym pokoleniu."
   ]
  },
  {
   "cell_type": "code",
   "execution_count": 41,
   "metadata": {},
   "outputs": [],
   "source": [
    "#for _ in range(10):\n",
    "population3 = generation()\n",
    "#print(population3)"
   ]
  },
  {
   "cell_type": "markdown",
   "metadata": {},
   "source": [
    "Uczyńmy nazwy zmiennych w bardziej reprezentatywnej formie"
   ]
  },
  {
   "cell_type": "code",
   "execution_count": 42,
   "metadata": {},
   "outputs": [],
   "source": [
    "final_volume = [volume(population3[0]) for _ in volume(population3[0])]\n",
    "quant = quantity(population3[0]) # Minimalna liczba używanych kontenerów\n",
    "\n",
    "final_volume2 = [] \n",
    "for i in range(quant):\n",
    "    final_volume2.append(final_volume[0][0][i]) # Używana objętość każdego pojemnika    "
   ]
  },
  {
   "cell_type": "code",
   "execution_count": 43,
   "metadata": {},
   "outputs": [
    {
     "name": "stdout",
     "output_type": "stream",
     "text": [
      "\n",
      "Minimalna liczba używanych kontenerów:  28\n"
     ]
    }
   ],
   "source": [
    "print('\\nMinimalna liczba używanych kontenerów: ', quant)\n",
    "\n",
    "#print('\\nUżywana objętość każdego pojemnika, nie przekraczająca dopuszczalnej:')\n",
    "#final_volume2"
   ]
  },
  {
   "cell_type": "code",
   "execution_count": 44,
   "metadata": {},
   "outputs": [
    {
     "data": {
      "image/png": "[encoded data removed]",
      "text/plain": [
       "<Figure size 1080x216 with 1 Axes>"
      ]
     },
     "metadata": {
      "needs_background": "light"
     },
     "output_type": "display_data"
    }
   ],
   "source": [
    "plot.figure(figsize=(15, 3))\n",
    "x = np.arange(quant) # Liczba używanych kontenerów\n",
    "plot.bar(x+1, height = final_volume2)\n",
    "\n",
    "# rysowanie linii poziomej == maksymalna objetość każdego kontenera\n",
    "plot.axhline(y = v_max, color = 'r', linewidth=4, linestyle = '--', label='maksymalna objetość kontenera')  \n",
    "\n",
    "plot.xlabel('Liczba kontenerów', fontsize=15, color='green')\n",
    "plot.ylabel('Używana objętość', fontsize=15, color='green')\n",
    "\n",
    "#plt.grid()\n",
    "plot.legend(fontsize=12)\n",
    "plot.show()"
   ]
  },
  {
   "cell_type": "markdown",
   "metadata": {},
   "source": [
    "# Wniosek"
   ]
  },
  {
   "cell_type": "markdown",
   "metadata": {},
   "source": [
    "Korzystając z Algorytmu Genetycznego, staraliśmy znaleźć minimalną liczbę pojemników wymaganych do spakowania wszystkich przedmiotów (mniej niż $1/3$ ogólnej liczby). Istnieje jednak duże prawdopodobieństwo, że to rozwiązanie nie jest najbardziej optymalne (jak widać na wykresie, <i>nie wszystkie</i> słupki osiągają maksimum.). Ale w przypadku problemów ze złożonością kombinatoryczną NP, takie podejście jest całkiem uzasadnione."
   ]
  },
  {
   "cell_type": "markdown",
   "metadata": {},
   "source": [
    "# Źródła inspiracji:"
   ]
  },
  {
   "cell_type": "markdown",
   "metadata": {},
   "source": [
    "* <b>Materiał</b> z Wykładu cz. II i IV (Algorytmy ewolucyjne)\n",
    "* <b>Genetic Algorithms with Python</b> by Clinton Sheppard\n",
    "* <b>Hands-On Genetic Algorithms with Python</b> by Eyal Wirsansky"
   ]
  },
  {
   "cell_type": "code",
   "execution_count": null,
   "metadata": {},
   "outputs": [],
   "source": []
  }
 ],
 "metadata": {
  "kernelspec": {
   "display_name": "Python 3",
   "language": "python",
   "name": "python3"
  },
  "language_info": {
   "codemirror_mode": {
    "name": "ipython",
    "version": 3
   },
   "file_extension": ".py",
   "mimetype": "text/x-python",
   "name": "python",
   "nbconvert_exporter": "python",
   "pygments_lexer": "ipython3",
   "version": "3.7.7"
  }
 },
 "nbformat": 4,
 "nbformat_minor": 4
}
